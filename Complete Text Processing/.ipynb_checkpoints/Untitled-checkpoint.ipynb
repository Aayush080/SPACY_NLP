{
 "cells": [
  {
   "cell_type": "code",
   "execution_count": 1,
   "metadata": {},
   "outputs": [],
   "source": [
    "import pandas as pd\n",
    "import spacy\n",
    "import numpy as np"
   ]
  },
  {
   "cell_type": "code",
   "execution_count": 2,
   "metadata": {},
   "outputs": [],
   "source": [
    "from spacy.lang.en.stop_words import STOP_WORDS as stopwords"
   ]
  },
  {
   "cell_type": "code",
   "execution_count": 3,
   "metadata": {},
   "outputs": [],
   "source": [
    "df1 = pd.read_csv('https://raw.githubusercontent.com/laxmimerit/twitter-data/master/twitter4000.csv', encoding = 'latin1')"
   ]
  },
  {
   "cell_type": "code",
   "execution_count": 4,
   "metadata": {},
   "outputs": [],
   "source": [
    "df=df1.copy()"
   ]
  },
  {
   "cell_type": "code",
   "execution_count": 5,
   "metadata": {},
   "outputs": [
    {
     "data": {
      "text/html": [
       "<div>\n",
       "<style scoped>\n",
       "    .dataframe tbody tr th:only-of-type {\n",
       "        vertical-align: middle;\n",
       "    }\n",
       "\n",
       "    .dataframe tbody tr th {\n",
       "        vertical-align: top;\n",
       "    }\n",
       "\n",
       "    .dataframe thead th {\n",
       "        text-align: right;\n",
       "    }\n",
       "</style>\n",
       "<table border=\"1\" class=\"dataframe\">\n",
       "  <thead>\n",
       "    <tr style=\"text-align: right;\">\n",
       "      <th></th>\n",
       "      <th>twitts</th>\n",
       "      <th>sentiment</th>\n",
       "    </tr>\n",
       "  </thead>\n",
       "  <tbody>\n",
       "    <tr>\n",
       "      <th>0</th>\n",
       "      <td>is bored and wants to watch a movie  any sugge...</td>\n",
       "      <td>0</td>\n",
       "    </tr>\n",
       "    <tr>\n",
       "      <th>1</th>\n",
       "      <td>back in miami.  waiting to unboard ship</td>\n",
       "      <td>0</td>\n",
       "    </tr>\n",
       "    <tr>\n",
       "      <th>2</th>\n",
       "      <td>@misskpey awwww dnt dis brng bak memoriessss, ...</td>\n",
       "      <td>0</td>\n",
       "    </tr>\n",
       "    <tr>\n",
       "      <th>3</th>\n",
       "      <td>ughhh i am so tired  blahhhhhhhhh</td>\n",
       "      <td>0</td>\n",
       "    </tr>\n",
       "    <tr>\n",
       "      <th>4</th>\n",
       "      <td>@mandagoforth me bad! It's funny though. Zacha...</td>\n",
       "      <td>0</td>\n",
       "    </tr>\n",
       "    <tr>\n",
       "      <th>5</th>\n",
       "      <td>brr, i'm so cold. at the moment doing my assig...</td>\n",
       "      <td>0</td>\n",
       "    </tr>\n",
       "    <tr>\n",
       "      <th>6</th>\n",
       "      <td>@kevinmarquis haha yep but i really need to sl...</td>\n",
       "      <td>0</td>\n",
       "    </tr>\n",
       "    <tr>\n",
       "      <th>7</th>\n",
       "      <td>eating some ice-cream while I try to see @pete...</td>\n",
       "      <td>0</td>\n",
       "    </tr>\n",
       "    <tr>\n",
       "      <th>8</th>\n",
       "      <td>@phatty84 just hella bored at work  lol</td>\n",
       "      <td>0</td>\n",
       "    </tr>\n",
       "    <tr>\n",
       "      <th>9</th>\n",
       "      <td>Food poisoning blowssss</td>\n",
       "      <td>0</td>\n",
       "    </tr>\n",
       "    <tr>\n",
       "      <th>10</th>\n",
       "      <td>@StaciG She sent home the best guy, I'm over t...</td>\n",
       "      <td>0</td>\n",
       "    </tr>\n",
       "    <tr>\n",
       "      <th>11</th>\n",
       "      <td>@shika Yeah I did. Trying to recover it now. I...</td>\n",
       "      <td>0</td>\n",
       "    </tr>\n",
       "    <tr>\n",
       "      <th>12</th>\n",
       "      <td>can't fall asleep</td>\n",
       "      <td>0</td>\n",
       "    </tr>\n",
       "    <tr>\n",
       "      <th>13</th>\n",
       "      <td>Padres come back from being down 6-0 &amp;amp; we ...</td>\n",
       "      <td>0</td>\n",
       "    </tr>\n",
       "    <tr>\n",
       "      <th>14</th>\n",
       "      <td>Awe shiiiiiiiiiiiit! Chente got dem killahzzzz...</td>\n",
       "      <td>0</td>\n",
       "    </tr>\n",
       "    <tr>\n",
       "      <th>15</th>\n",
       "      <td>@sfannah Ahhhhh  Well at least I'm up to!</td>\n",
       "      <td>0</td>\n",
       "    </tr>\n",
       "    <tr>\n",
       "      <th>16</th>\n",
       "      <td>@BrianQuest I made 1 fo u 2: http://bit.ly/eId...</td>\n",
       "      <td>0</td>\n",
       "    </tr>\n",
       "    <tr>\n",
       "      <th>17</th>\n",
       "      <td>mhm  oh, I brought my hendrick's out to vancou...</td>\n",
       "      <td>0</td>\n",
       "    </tr>\n",
       "    <tr>\n",
       "      <th>18</th>\n",
       "      <td>@garethemery Gareth, all of are tuned, it but ...</td>\n",
       "      <td>0</td>\n",
       "    </tr>\n",
       "    <tr>\n",
       "      <th>19</th>\n",
       "      <td>@KimberleyMtkg Hey there! No can do!  Travelin...</td>\n",
       "      <td>0</td>\n",
       "    </tr>\n",
       "  </tbody>\n",
       "</table>\n",
       "</div>"
      ],
      "text/plain": [
       "                                               twitts  sentiment\n",
       "0   is bored and wants to watch a movie  any sugge...          0\n",
       "1            back in miami.  waiting to unboard ship           0\n",
       "2   @misskpey awwww dnt dis brng bak memoriessss, ...          0\n",
       "3                   ughhh i am so tired  blahhhhhhhhh          0\n",
       "4   @mandagoforth me bad! It's funny though. Zacha...          0\n",
       "5   brr, i'm so cold. at the moment doing my assig...          0\n",
       "6   @kevinmarquis haha yep but i really need to sl...          0\n",
       "7   eating some ice-cream while I try to see @pete...          0\n",
       "8             @phatty84 just hella bored at work  lol          0\n",
       "9                            Food poisoning blowssss           0\n",
       "10  @StaciG She sent home the best guy, I'm over t...          0\n",
       "11  @shika Yeah I did. Trying to recover it now. I...          0\n",
       "12                                 can't fall asleep           0\n",
       "13  Padres come back from being down 6-0 &amp; we ...          0\n",
       "14  Awe shiiiiiiiiiiiit! Chente got dem killahzzzz...          0\n",
       "15          @sfannah Ahhhhh  Well at least I'm up to!          0\n",
       "16  @BrianQuest I made 1 fo u 2: http://bit.ly/eId...          0\n",
       "17  mhm  oh, I brought my hendrick's out to vancou...          0\n",
       "18  @garethemery Gareth, all of are tuned, it but ...          0\n",
       "19  @KimberleyMtkg Hey there! No can do!  Travelin...          0"
      ]
     },
     "execution_count": 5,
     "metadata": {},
     "output_type": "execute_result"
    }
   ],
   "source": [
    "df.head(20)"
   ]
  },
  {
   "cell_type": "code",
   "execution_count": 6,
   "metadata": {},
   "outputs": [
    {
     "data": {
      "text/plain": [
       "1    2000\n",
       "0    2000\n",
       "Name: sentiment, dtype: int64"
      ]
     },
     "execution_count": 6,
     "metadata": {},
     "output_type": "execute_result"
    }
   ],
   "source": [
    "df.sentiment.value_counts()"
   ]
  },
  {
   "cell_type": "markdown",
   "metadata": {},
   "source": [
    "# WORD COUNTS"
   ]
  },
  {
   "cell_type": "code",
   "execution_count": 7,
   "metadata": {},
   "outputs": [
    {
     "data": {
      "text/plain": [
       "4"
      ]
     },
     "execution_count": 7,
     "metadata": {},
     "output_type": "execute_result"
    }
   ],
   "source": [
    "len(('This is my sister').split())"
   ]
  },
  {
   "cell_type": "code",
   "execution_count": 8,
   "metadata": {},
   "outputs": [],
   "source": [
    "df['word_counts']=df['twitts'].apply(lambda x: len(str(x).split()))"
   ]
  },
  {
   "cell_type": "code",
   "execution_count": 9,
   "metadata": {},
   "outputs": [
    {
     "data": {
      "text/html": [
       "<div>\n",
       "<style scoped>\n",
       "    .dataframe tbody tr th:only-of-type {\n",
       "        vertical-align: middle;\n",
       "    }\n",
       "\n",
       "    .dataframe tbody tr th {\n",
       "        vertical-align: top;\n",
       "    }\n",
       "\n",
       "    .dataframe thead th {\n",
       "        text-align: right;\n",
       "    }\n",
       "</style>\n",
       "<table border=\"1\" class=\"dataframe\">\n",
       "  <thead>\n",
       "    <tr style=\"text-align: right;\">\n",
       "      <th></th>\n",
       "      <th>twitts</th>\n",
       "      <th>sentiment</th>\n",
       "      <th>word_counts</th>\n",
       "    </tr>\n",
       "  </thead>\n",
       "  <tbody>\n",
       "    <tr>\n",
       "      <th>0</th>\n",
       "      <td>is bored and wants to watch a movie  any sugge...</td>\n",
       "      <td>0</td>\n",
       "      <td>10</td>\n",
       "    </tr>\n",
       "    <tr>\n",
       "      <th>1</th>\n",
       "      <td>back in miami.  waiting to unboard ship</td>\n",
       "      <td>0</td>\n",
       "      <td>7</td>\n",
       "    </tr>\n",
       "    <tr>\n",
       "      <th>2</th>\n",
       "      <td>@misskpey awwww dnt dis brng bak memoriessss, ...</td>\n",
       "      <td>0</td>\n",
       "      <td>12</td>\n",
       "    </tr>\n",
       "    <tr>\n",
       "      <th>3</th>\n",
       "      <td>ughhh i am so tired  blahhhhhhhhh</td>\n",
       "      <td>0</td>\n",
       "      <td>6</td>\n",
       "    </tr>\n",
       "    <tr>\n",
       "      <th>4</th>\n",
       "      <td>@mandagoforth me bad! It's funny though. Zacha...</td>\n",
       "      <td>0</td>\n",
       "      <td>26</td>\n",
       "    </tr>\n",
       "  </tbody>\n",
       "</table>\n",
       "</div>"
      ],
      "text/plain": [
       "                                              twitts  sentiment  word_counts\n",
       "0  is bored and wants to watch a movie  any sugge...          0           10\n",
       "1           back in miami.  waiting to unboard ship           0            7\n",
       "2  @misskpey awwww dnt dis brng bak memoriessss, ...          0           12\n",
       "3                  ughhh i am so tired  blahhhhhhhhh          0            6\n",
       "4  @mandagoforth me bad! It's funny though. Zacha...          0           26"
      ]
     },
     "execution_count": 9,
     "metadata": {},
     "output_type": "execute_result"
    }
   ],
   "source": [
    "df.head()"
   ]
  },
  {
   "cell_type": "code",
   "execution_count": 10,
   "metadata": {},
   "outputs": [
    {
     "data": {
      "text/plain": [
       "32"
      ]
     },
     "execution_count": 10,
     "metadata": {},
     "output_type": "execute_result"
    }
   ],
   "source": [
    "df.word_counts.max()"
   ]
  },
  {
   "cell_type": "code",
   "execution_count": 11,
   "metadata": {},
   "outputs": [
    {
     "data": {
      "text/plain": [
       "13.28125"
      ]
     },
     "execution_count": 11,
     "metadata": {},
     "output_type": "execute_result"
    }
   ],
   "source": [
    "df.word_counts.mean()"
   ]
  },
  {
   "cell_type": "markdown",
   "metadata": {},
   "source": [
    "CHARACTERS COUNT"
   ]
  },
  {
   "cell_type": "code",
   "execution_count": 12,
   "metadata": {},
   "outputs": [
    {
     "data": {
      "text/html": [
       "<div>\n",
       "<style scoped>\n",
       "    .dataframe tbody tr th:only-of-type {\n",
       "        vertical-align: middle;\n",
       "    }\n",
       "\n",
       "    .dataframe tbody tr th {\n",
       "        vertical-align: top;\n",
       "    }\n",
       "\n",
       "    .dataframe thead th {\n",
       "        text-align: right;\n",
       "    }\n",
       "</style>\n",
       "<table border=\"1\" class=\"dataframe\">\n",
       "  <thead>\n",
       "    <tr style=\"text-align: right;\">\n",
       "      <th></th>\n",
       "      <th>twitts</th>\n",
       "      <th>sentiment</th>\n",
       "      <th>word_counts</th>\n",
       "    </tr>\n",
       "  </thead>\n",
       "  <tbody>\n",
       "    <tr>\n",
       "      <th>0</th>\n",
       "      <td>is bored and wants to watch a movie  any sugge...</td>\n",
       "      <td>0</td>\n",
       "      <td>10</td>\n",
       "    </tr>\n",
       "    <tr>\n",
       "      <th>1</th>\n",
       "      <td>back in miami.  waiting to unboard ship</td>\n",
       "      <td>0</td>\n",
       "      <td>7</td>\n",
       "    </tr>\n",
       "    <tr>\n",
       "      <th>2</th>\n",
       "      <td>@misskpey awwww dnt dis brng bak memoriessss, ...</td>\n",
       "      <td>0</td>\n",
       "      <td>12</td>\n",
       "    </tr>\n",
       "    <tr>\n",
       "      <th>3</th>\n",
       "      <td>ughhh i am so tired  blahhhhhhhhh</td>\n",
       "      <td>0</td>\n",
       "      <td>6</td>\n",
       "    </tr>\n",
       "    <tr>\n",
       "      <th>4</th>\n",
       "      <td>@mandagoforth me bad! It's funny though. Zacha...</td>\n",
       "      <td>0</td>\n",
       "      <td>26</td>\n",
       "    </tr>\n",
       "  </tbody>\n",
       "</table>\n",
       "</div>"
      ],
      "text/plain": [
       "                                              twitts  sentiment  word_counts\n",
       "0  is bored and wants to watch a movie  any sugge...          0           10\n",
       "1           back in miami.  waiting to unboard ship           0            7\n",
       "2  @misskpey awwww dnt dis brng bak memoriessss, ...          0           12\n",
       "3                  ughhh i am so tired  blahhhhhhhhh          0            6\n",
       "4  @mandagoforth me bad! It's funny though. Zacha...          0           26"
      ]
     },
     "execution_count": 12,
     "metadata": {},
     "output_type": "execute_result"
    }
   ],
   "source": [
    "df.head()"
   ]
  },
  {
   "cell_type": "code",
   "execution_count": 13,
   "metadata": {},
   "outputs": [],
   "source": [
    "def char_counts(x):\n",
    "    s=x.split()\n",
    "    x=''.join(s)\n",
    "    return len(x)"
   ]
  },
  {
   "cell_type": "code",
   "execution_count": null,
   "metadata": {},
   "outputs": [],
   "source": []
  },
  {
   "cell_type": "code",
   "execution_count": 14,
   "metadata": {},
   "outputs": [],
   "source": [
    "df['char_counts']=df['twitts'].apply(lambda x:char_counts(str(x)) )"
   ]
  },
  {
   "cell_type": "code",
   "execution_count": 15,
   "metadata": {},
   "outputs": [
    {
     "data": {
      "text/html": [
       "<div>\n",
       "<style scoped>\n",
       "    .dataframe tbody tr th:only-of-type {\n",
       "        vertical-align: middle;\n",
       "    }\n",
       "\n",
       "    .dataframe tbody tr th {\n",
       "        vertical-align: top;\n",
       "    }\n",
       "\n",
       "    .dataframe thead th {\n",
       "        text-align: right;\n",
       "    }\n",
       "</style>\n",
       "<table border=\"1\" class=\"dataframe\">\n",
       "  <thead>\n",
       "    <tr style=\"text-align: right;\">\n",
       "      <th></th>\n",
       "      <th>twitts</th>\n",
       "      <th>sentiment</th>\n",
       "      <th>word_counts</th>\n",
       "      <th>char_counts</th>\n",
       "    </tr>\n",
       "  </thead>\n",
       "  <tbody>\n",
       "    <tr>\n",
       "      <th>1381</th>\n",
       "      <td>@BuildsBlog Just found out it's currently not ...</td>\n",
       "      <td>0</td>\n",
       "      <td>13</td>\n",
       "      <td>79</td>\n",
       "    </tr>\n",
       "    <tr>\n",
       "      <th>1310</th>\n",
       "      <td>Has been crap today.  Will never lose anymore ...</td>\n",
       "      <td>0</td>\n",
       "      <td>12</td>\n",
       "      <td>53</td>\n",
       "    </tr>\n",
       "    <tr>\n",
       "      <th>3404</th>\n",
       "      <td>It's taking great willpower to not eat the ice...</td>\n",
       "      <td>1</td>\n",
       "      <td>21</td>\n",
       "      <td>99</td>\n",
       "    </tr>\n",
       "    <tr>\n",
       "      <th>2538</th>\n",
       "      <td>I'm proud of myself! Managed to place an order...</td>\n",
       "      <td>1</td>\n",
       "      <td>23</td>\n",
       "      <td>111</td>\n",
       "    </tr>\n",
       "    <tr>\n",
       "      <th>2880</th>\n",
       "      <td>touched by the gifts received, time will put t...</td>\n",
       "      <td>1</td>\n",
       "      <td>24</td>\n",
       "      <td>102</td>\n",
       "    </tr>\n",
       "  </tbody>\n",
       "</table>\n",
       "</div>"
      ],
      "text/plain": [
       "                                                 twitts  sentiment  \\\n",
       "1381  @BuildsBlog Just found out it's currently not ...          0   \n",
       "1310  Has been crap today.  Will never lose anymore ...          0   \n",
       "3404  It's taking great willpower to not eat the ice...          1   \n",
       "2538  I'm proud of myself! Managed to place an order...          1   \n",
       "2880  touched by the gifts received, time will put t...          1   \n",
       "\n",
       "      word_counts  char_counts  \n",
       "1381           13           79  \n",
       "1310           12           53  \n",
       "3404           21           99  \n",
       "2538           23          111  \n",
       "2880           24          102  "
      ]
     },
     "execution_count": 15,
     "metadata": {},
     "output_type": "execute_result"
    }
   ],
   "source": [
    "df.sample(5)"
   ]
  },
  {
   "cell_type": "code",
   "execution_count": 16,
   "metadata": {},
   "outputs": [],
   "source": [
    "df['Avg_word_length']=df['char_counts']/df['word_counts']"
   ]
  },
  {
   "cell_type": "code",
   "execution_count": 17,
   "metadata": {},
   "outputs": [
    {
     "data": {
      "text/html": [
       "<div>\n",
       "<style scoped>\n",
       "    .dataframe tbody tr th:only-of-type {\n",
       "        vertical-align: middle;\n",
       "    }\n",
       "\n",
       "    .dataframe tbody tr th {\n",
       "        vertical-align: top;\n",
       "    }\n",
       "\n",
       "    .dataframe thead th {\n",
       "        text-align: right;\n",
       "    }\n",
       "</style>\n",
       "<table border=\"1\" class=\"dataframe\">\n",
       "  <thead>\n",
       "    <tr style=\"text-align: right;\">\n",
       "      <th></th>\n",
       "      <th>twitts</th>\n",
       "      <th>sentiment</th>\n",
       "      <th>word_counts</th>\n",
       "      <th>char_counts</th>\n",
       "      <th>Avg_word_length</th>\n",
       "    </tr>\n",
       "  </thead>\n",
       "  <tbody>\n",
       "    <tr>\n",
       "      <th>2623</th>\n",
       "      <td>@RaquelM2 okay great!! i can't wait!!!  i'm re...</td>\n",
       "      <td>1</td>\n",
       "      <td>25</td>\n",
       "      <td>112</td>\n",
       "      <td>4.480000</td>\n",
       "    </tr>\n",
       "    <tr>\n",
       "      <th>2334</th>\n",
       "      <td>@hernseugene u said u were in class with the g...</td>\n",
       "      <td>1</td>\n",
       "      <td>20</td>\n",
       "      <td>102</td>\n",
       "      <td>5.100000</td>\n",
       "    </tr>\n",
       "    <tr>\n",
       "      <th>2102</th>\n",
       "      <td>@Bullpenbrat Hi April!! Its Heather</td>\n",
       "      <td>1</td>\n",
       "      <td>5</td>\n",
       "      <td>31</td>\n",
       "      <td>6.200000</td>\n",
       "    </tr>\n",
       "    <tr>\n",
       "      <th>2913</th>\n",
       "      <td>I hate physics!</td>\n",
       "      <td>1</td>\n",
       "      <td>3</td>\n",
       "      <td>13</td>\n",
       "      <td>4.333333</td>\n",
       "    </tr>\n",
       "    <tr>\n",
       "      <th>2530</th>\n",
       "      <td>@PoynterPerv yea ave been to see him twice lol...</td>\n",
       "      <td>1</td>\n",
       "      <td>16</td>\n",
       "      <td>64</td>\n",
       "      <td>4.000000</td>\n",
       "    </tr>\n",
       "    <tr>\n",
       "      <th>3767</th>\n",
       "      <td>@satyo2000 Hehehehe.. No problem. At least gue...</td>\n",
       "      <td>1</td>\n",
       "      <td>16</td>\n",
       "      <td>70</td>\n",
       "      <td>4.375000</td>\n",
       "    </tr>\n",
       "    <tr>\n",
       "      <th>170</th>\n",
       "      <td>@offirg Sorry but I will be at the Cepic AGM i...</td>\n",
       "      <td>0</td>\n",
       "      <td>24</td>\n",
       "      <td>92</td>\n",
       "      <td>3.833333</td>\n",
       "    </tr>\n",
       "    <tr>\n",
       "      <th>2169</th>\n",
       "      <td>Luvs her Machie - Poo !!! R friendship is tigh...</td>\n",
       "      <td>1</td>\n",
       "      <td>16</td>\n",
       "      <td>65</td>\n",
       "      <td>4.062500</td>\n",
       "    </tr>\n",
       "    <tr>\n",
       "      <th>3021</th>\n",
       "      <td>@taylormcfly I know!! Should of guessed they'd...</td>\n",
       "      <td>1</td>\n",
       "      <td>10</td>\n",
       "      <td>51</td>\n",
       "      <td>5.100000</td>\n",
       "    </tr>\n",
       "  </tbody>\n",
       "</table>\n",
       "</div>"
      ],
      "text/plain": [
       "                                                 twitts  sentiment  \\\n",
       "2623  @RaquelM2 okay great!! i can't wait!!!  i'm re...          1   \n",
       "2334  @hernseugene u said u were in class with the g...          1   \n",
       "2102               @Bullpenbrat Hi April!! Its Heather           1   \n",
       "2913                                   I hate physics!           1   \n",
       "2530  @PoynterPerv yea ave been to see him twice lol...          1   \n",
       "3767  @satyo2000 Hehehehe.. No problem. At least gue...          1   \n",
       "170   @offirg Sorry but I will be at the Cepic AGM i...          0   \n",
       "2169  Luvs her Machie - Poo !!! R friendship is tigh...          1   \n",
       "3021  @taylormcfly I know!! Should of guessed they'd...          1   \n",
       "\n",
       "      word_counts  char_counts  Avg_word_length  \n",
       "2623           25          112         4.480000  \n",
       "2334           20          102         5.100000  \n",
       "2102            5           31         6.200000  \n",
       "2913            3           13         4.333333  \n",
       "2530           16           64         4.000000  \n",
       "3767           16           70         4.375000  \n",
       "170            24           92         3.833333  \n",
       "2169           16           65         4.062500  \n",
       "3021           10           51         5.100000  "
      ]
     },
     "execution_count": 17,
     "metadata": {},
     "output_type": "execute_result"
    }
   ],
   "source": [
    "df.sample(9)"
   ]
  },
  {
   "cell_type": "code",
   "execution_count": 18,
   "metadata": {},
   "outputs": [
    {
     "name": "stdout",
     "output_type": "stream",
     "text": [
      "{'behind', 'below', 'he', 'others', 'latter', 'do', 'from', 'amongst', 'seemed', 'most', 'which', 'less', 'this', 'the', 'seeming', 'several', 'along', 'where', 'within', 'over', 'are', 'about', 'keep', 'across', 'ca', '’ll', 'anyhow', '‘m', 'say', 'above', 'first', 'rather', 'itself', 'everything', 'therefore', 'its', 'also', 'had', 'show', 'thereafter', 'done', 'third', 'during', '’m', 'by', 'four', 'herself', 're', 'give', 'n‘t', 'therein', 'being', 'everyone', '‘ve', 'anything', 'whereas', 'have', 'almost', 'regarding', 'of', 'please', 'bottom', 'three', 'so', 'own', 'whenever', 'neither', 'forty', 'and', 'among', 'anywhere', 'before', 'me', 'used', 'perhaps', 'afterwards', 'hereafter', 'someone', 'she', 'sometime', 'one', 'besides', 'too', 'although', 'really', 'cannot', 'due', 'meanwhile', 'or', 'to', 'towards', 'nevertheless', 'beyond', 'since', 'does', 'ever', 'again', 'may', '’s', 'made', 'latterly', 'throughout', 'for', 'already', '‘ll', 'same', 'every', 'take', 'yours', 'namely', 'see', 'either', 'toward', '‘s', '’ve', 'even', 'without', 'move', 'moreover', 'name', 'together', 'very', 'somehow', 'will', 'whereafter', 'further', 'nobody', 'how', 'my', 'everywhere', 'fifty', 'while', 'becoming', 'up', 'mostly', 'many', '’d', 'beside', 'wherever', 'hereupon', 'mine', 'into', 'became', 'those', 'would', 'noone', 'ours', 'whereupon', 'herein', 'least', 'such', 'but', \"'ve\", 'whose', 'unless', 'ten', 'top', 'that', 'eleven', '’re', 'former', 'was', 'down', 'still', 'hers', 'becomes', 'nor', 'just', 'whereby', 'doing', 'thru', 'otherwise', \"'m\", 'until', 'few', 'thereupon', 'might', 'various', 'yourself', 'full', 'been', 'myself', 'get', 'there', 'nowhere', 'side', 'quite', 'however', 'it', 'part', 'off', 'on', 'whatever', 'beforehand', 'put', 'you', 'via', 'sometimes', 'with', 'i', \"'ll\", 'though', 'call', 'thus', 'go', 'once', 'alone', 'your', 'here', 'onto', 'why', 'elsewhere', 'when', 'our', 'twelve', 'whoever', 'never', 'empty', 'always', 'front', 'whether', 'her', 'another', 'who', 'some', 'in', 'eight', 'twenty', 'has', 'these', 'whom', \"'re\", 'indeed', 'their', 'more', 'using', 'back', 'could', 'his', 'nine', 'out', 'against', 'anyone', 'seem', 'wherein', 'whence', 'next', 'themselves', 'them', 'last', 'now', 'seems', 'be', 'hence', 'did', 'they', 'at', 'each', 'upon', 'somewhere', 'serious', 'no', 'himself', 'if', 'hundred', '‘re', 'become', 'yet', 'six', 'fifteen', 'should', 'thereby', 'else', 'not', 'a', 'something', '‘d', 'sixty', 'two', 'as', 'we', 'am', 'both', 'were', 'nothing', 'thence', 'an', 'us', 'around', 'between', 'then', \"n't\", 'can', 'ourselves', 'n’t', 'than', 'only', 'yourselves', 'per', 'formerly', 'often', 'must', 'make', 'through', 'anyway', 'except', \"'s\", 'after', 'amount', 'is', 'whole', 'any', 'all', 'well', 'five', 'what', 'other', 'under', 'much', 'hereby', 'because', 'whither', 'none', 'enough', \"'d\", 'him'}\n"
     ]
    }
   ],
   "source": [
    "print(stopwords)"
   ]
  },
  {
   "cell_type": "code",
   "execution_count": 19,
   "metadata": {},
   "outputs": [
    {
     "data": {
      "text/plain": [
       "326"
      ]
     },
     "execution_count": 19,
     "metadata": {},
     "output_type": "execute_result"
    }
   ],
   "source": [
    "len(stopwords)"
   ]
  },
  {
   "cell_type": "code",
   "execution_count": null,
   "metadata": {},
   "outputs": [],
   "source": []
  },
  {
   "cell_type": "code",
   "execution_count": null,
   "metadata": {},
   "outputs": [],
   "source": []
  },
  {
   "cell_type": "code",
   "execution_count": 20,
   "metadata": {},
   "outputs": [],
   "source": [
    "df['stop_words_len']=df['twitts'].apply(lambda x: len([t for t in x.split() if t in stopwords]))"
   ]
  },
  {
   "cell_type": "code",
   "execution_count": 21,
   "metadata": {},
   "outputs": [
    {
     "data": {
      "text/html": [
       "<div>\n",
       "<style scoped>\n",
       "    .dataframe tbody tr th:only-of-type {\n",
       "        vertical-align: middle;\n",
       "    }\n",
       "\n",
       "    .dataframe tbody tr th {\n",
       "        vertical-align: top;\n",
       "    }\n",
       "\n",
       "    .dataframe thead th {\n",
       "        text-align: right;\n",
       "    }\n",
       "</style>\n",
       "<table border=\"1\" class=\"dataframe\">\n",
       "  <thead>\n",
       "    <tr style=\"text-align: right;\">\n",
       "      <th></th>\n",
       "      <th>twitts</th>\n",
       "      <th>sentiment</th>\n",
       "      <th>word_counts</th>\n",
       "      <th>char_counts</th>\n",
       "      <th>Avg_word_length</th>\n",
       "      <th>stop_words_len</th>\n",
       "    </tr>\n",
       "  </thead>\n",
       "  <tbody>\n",
       "    <tr>\n",
       "      <th>0</th>\n",
       "      <td>is bored and wants to watch a movie  any sugge...</td>\n",
       "      <td>0</td>\n",
       "      <td>10</td>\n",
       "      <td>43</td>\n",
       "      <td>4.300000</td>\n",
       "      <td>5</td>\n",
       "    </tr>\n",
       "    <tr>\n",
       "      <th>1</th>\n",
       "      <td>back in miami.  waiting to unboard ship</td>\n",
       "      <td>0</td>\n",
       "      <td>7</td>\n",
       "      <td>32</td>\n",
       "      <td>4.571429</td>\n",
       "      <td>3</td>\n",
       "    </tr>\n",
       "    <tr>\n",
       "      <th>2</th>\n",
       "      <td>@misskpey awwww dnt dis brng bak memoriessss, ...</td>\n",
       "      <td>0</td>\n",
       "      <td>12</td>\n",
       "      <td>54</td>\n",
       "      <td>4.500000</td>\n",
       "      <td>0</td>\n",
       "    </tr>\n",
       "    <tr>\n",
       "      <th>3</th>\n",
       "      <td>ughhh i am so tired  blahhhhhhhhh</td>\n",
       "      <td>0</td>\n",
       "      <td>6</td>\n",
       "      <td>27</td>\n",
       "      <td>4.500000</td>\n",
       "      <td>3</td>\n",
       "    </tr>\n",
       "    <tr>\n",
       "      <th>4</th>\n",
       "      <td>@mandagoforth me bad! It's funny though. Zacha...</td>\n",
       "      <td>0</td>\n",
       "      <td>26</td>\n",
       "      <td>116</td>\n",
       "      <td>4.461538</td>\n",
       "      <td>13</td>\n",
       "    </tr>\n",
       "  </tbody>\n",
       "</table>\n",
       "</div>"
      ],
      "text/plain": [
       "                                              twitts  sentiment  word_counts  \\\n",
       "0  is bored and wants to watch a movie  any sugge...          0           10   \n",
       "1           back in miami.  waiting to unboard ship           0            7   \n",
       "2  @misskpey awwww dnt dis brng bak memoriessss, ...          0           12   \n",
       "3                  ughhh i am so tired  blahhhhhhhhh          0            6   \n",
       "4  @mandagoforth me bad! It's funny though. Zacha...          0           26   \n",
       "\n",
       "   char_counts  Avg_word_length  stop_words_len  \n",
       "0           43         4.300000               5  \n",
       "1           32         4.571429               3  \n",
       "2           54         4.500000               0  \n",
       "3           27         4.500000               3  \n",
       "4          116         4.461538              13  "
      ]
     },
     "execution_count": 21,
     "metadata": {},
     "output_type": "execute_result"
    }
   ],
   "source": [
    "df.head()"
   ]
  },
  {
   "cell_type": "code",
   "execution_count": 22,
   "metadata": {},
   "outputs": [],
   "source": [
    "x='this is #hastag and this is @mention'"
   ]
  },
  {
   "cell_type": "code",
   "execution_count": 23,
   "metadata": {},
   "outputs": [
    {
     "data": {
      "text/plain": [
       "['this', 'is', '#hastag', 'and', 'this', 'is', '@mention']"
      ]
     },
     "execution_count": 23,
     "metadata": {},
     "output_type": "execute_result"
    }
   ],
   "source": [
    "x.split()"
   ]
  },
  {
   "cell_type": "code",
   "execution_count": 24,
   "metadata": {},
   "outputs": [
    {
     "data": {
      "text/plain": [
       "1"
      ]
     },
     "execution_count": 24,
     "metadata": {},
     "output_type": "execute_result"
    }
   ],
   "source": [
    "len([t for t in x.split() if t.startswith('#')])"
   ]
  },
  {
   "cell_type": "code",
   "execution_count": 25,
   "metadata": {},
   "outputs": [],
   "source": [
    "df['hashtags_count']=df['twitts'].apply(lambda x: len([t for t in x.split() if t.startswith('#')]))\n",
    "df['mentions_counts']=df['twitts'].apply(lambda x: len([t for t in x.split() if t.startswith('@')]))"
   ]
  },
  {
   "cell_type": "code",
   "execution_count": 26,
   "metadata": {},
   "outputs": [
    {
     "data": {
      "text/html": [
       "<div>\n",
       "<style scoped>\n",
       "    .dataframe tbody tr th:only-of-type {\n",
       "        vertical-align: middle;\n",
       "    }\n",
       "\n",
       "    .dataframe tbody tr th {\n",
       "        vertical-align: top;\n",
       "    }\n",
       "\n",
       "    .dataframe thead th {\n",
       "        text-align: right;\n",
       "    }\n",
       "</style>\n",
       "<table border=\"1\" class=\"dataframe\">\n",
       "  <thead>\n",
       "    <tr style=\"text-align: right;\">\n",
       "      <th></th>\n",
       "      <th>twitts</th>\n",
       "      <th>sentiment</th>\n",
       "      <th>word_counts</th>\n",
       "      <th>char_counts</th>\n",
       "      <th>Avg_word_length</th>\n",
       "      <th>stop_words_len</th>\n",
       "      <th>hashtags_count</th>\n",
       "      <th>mentions_counts</th>\n",
       "    </tr>\n",
       "  </thead>\n",
       "  <tbody>\n",
       "    <tr>\n",
       "      <th>3072</th>\n",
       "      <td>had so much fun on my shopping spree...lots of...</td>\n",
       "      <td>1</td>\n",
       "      <td>10</td>\n",
       "      <td>43</td>\n",
       "      <td>4.300000</td>\n",
       "      <td>6</td>\n",
       "      <td>0</td>\n",
       "      <td>0</td>\n",
       "    </tr>\n",
       "    <tr>\n",
       "      <th>284</th>\n",
       "      <td>@chiniehdiaz I as disappointed about Angela's ...</td>\n",
       "      <td>0</td>\n",
       "      <td>7</td>\n",
       "      <td>43</td>\n",
       "      <td>6.142857</td>\n",
       "      <td>2</td>\n",
       "      <td>0</td>\n",
       "      <td>1</td>\n",
       "    </tr>\n",
       "    <tr>\n",
       "      <th>7</th>\n",
       "      <td>eating some ice-cream while I try to see @pete...</td>\n",
       "      <td>0</td>\n",
       "      <td>14</td>\n",
       "      <td>88</td>\n",
       "      <td>6.285714</td>\n",
       "      <td>4</td>\n",
       "      <td>0</td>\n",
       "      <td>1</td>\n",
       "    </tr>\n",
       "    <tr>\n",
       "      <th>596</th>\n",
       "      <td>@allimendiola i miss you sister! &amp;lt;3 i eat t...</td>\n",
       "      <td>0</td>\n",
       "      <td>27</td>\n",
       "      <td>109</td>\n",
       "      <td>4.037037</td>\n",
       "      <td>16</td>\n",
       "      <td>0</td>\n",
       "      <td>1</td>\n",
       "    </tr>\n",
       "    <tr>\n",
       "      <th>3870</th>\n",
       "      <td>@PinksTwitFans Loads and loads of coast</td>\n",
       "      <td>1</td>\n",
       "      <td>6</td>\n",
       "      <td>34</td>\n",
       "      <td>5.666667</td>\n",
       "      <td>2</td>\n",
       "      <td>0</td>\n",
       "      <td>1</td>\n",
       "    </tr>\n",
       "    <tr>\n",
       "      <th>1011</th>\n",
       "      <td>didnt go to the beach because had to get the c...</td>\n",
       "      <td>0</td>\n",
       "      <td>17</td>\n",
       "      <td>69</td>\n",
       "      <td>4.058824</td>\n",
       "      <td>8</td>\n",
       "      <td>0</td>\n",
       "      <td>0</td>\n",
       "    </tr>\n",
       "    <tr>\n",
       "      <th>742</th>\n",
       "      <td>At the train station. It's cold</td>\n",
       "      <td>0</td>\n",
       "      <td>6</td>\n",
       "      <td>26</td>\n",
       "      <td>4.333333</td>\n",
       "      <td>1</td>\n",
       "      <td>0</td>\n",
       "      <td>0</td>\n",
       "    </tr>\n",
       "    <tr>\n",
       "      <th>2922</th>\n",
       "      <td>i swear...the drugs are messing with my head.....</td>\n",
       "      <td>1</td>\n",
       "      <td>16</td>\n",
       "      <td>80</td>\n",
       "      <td>5.000000</td>\n",
       "      <td>8</td>\n",
       "      <td>0</td>\n",
       "      <td>0</td>\n",
       "    </tr>\n",
       "    <tr>\n",
       "      <th>1479</th>\n",
       "      <td>My last day of work today! How sad</td>\n",
       "      <td>0</td>\n",
       "      <td>8</td>\n",
       "      <td>27</td>\n",
       "      <td>3.375000</td>\n",
       "      <td>2</td>\n",
       "      <td>0</td>\n",
       "      <td>0</td>\n",
       "    </tr>\n",
       "  </tbody>\n",
       "</table>\n",
       "</div>"
      ],
      "text/plain": [
       "                                                 twitts  sentiment  \\\n",
       "3072  had so much fun on my shopping spree...lots of...          1   \n",
       "284   @chiniehdiaz I as disappointed about Angela's ...          0   \n",
       "7     eating some ice-cream while I try to see @pete...          0   \n",
       "596   @allimendiola i miss you sister! &lt;3 i eat t...          0   \n",
       "3870           @PinksTwitFans Loads and loads of coast           1   \n",
       "1011  didnt go to the beach because had to get the c...          0   \n",
       "742                    At the train station. It's cold           0   \n",
       "2922  i swear...the drugs are messing with my head.....          1   \n",
       "1479                My last day of work today! How sad           0   \n",
       "\n",
       "      word_counts  char_counts  Avg_word_length  stop_words_len  \\\n",
       "3072           10           43         4.300000               6   \n",
       "284             7           43         6.142857               2   \n",
       "7              14           88         6.285714               4   \n",
       "596            27          109         4.037037              16   \n",
       "3870            6           34         5.666667               2   \n",
       "1011           17           69         4.058824               8   \n",
       "742             6           26         4.333333               1   \n",
       "2922           16           80         5.000000               8   \n",
       "1479            8           27         3.375000               2   \n",
       "\n",
       "      hashtags_count  mentions_counts  \n",
       "3072               0                0  \n",
       "284                0                1  \n",
       "7                  0                1  \n",
       "596                0                1  \n",
       "3870               0                1  \n",
       "1011               0                0  \n",
       "742                0                0  \n",
       "2922               0                0  \n",
       "1479               0                0  "
      ]
     },
     "execution_count": 26,
     "metadata": {},
     "output_type": "execute_result"
    }
   ],
   "source": [
    "df.sample(9)"
   ]
  },
  {
   "cell_type": "code",
   "execution_count": 27,
   "metadata": {},
   "outputs": [],
   "source": [
    "x='this is 1 and 2'"
   ]
  },
  {
   "cell_type": "code",
   "execution_count": 28,
   "metadata": {},
   "outputs": [
    {
     "data": {
      "text/plain": [
       "True"
      ]
     },
     "execution_count": 28,
     "metadata": {},
     "output_type": "execute_result"
    }
   ],
   "source": [
    "x.split()[2].isdigit()"
   ]
  },
  {
   "cell_type": "code",
   "execution_count": 29,
   "metadata": {},
   "outputs": [
    {
     "data": {
      "text/plain": [
       "['1', '2']"
      ]
     },
     "execution_count": 29,
     "metadata": {},
     "output_type": "execute_result"
    }
   ],
   "source": [
    "[t for t in x.split() if t.isdigit()]"
   ]
  },
  {
   "cell_type": "code",
   "execution_count": 30,
   "metadata": {},
   "outputs": [],
   "source": [
    "df['numeric_digits_count']=df['twitts'].apply(lambda x:len([t for t in x.split() if t.isdigit()]))"
   ]
  },
  {
   "cell_type": "code",
   "execution_count": 31,
   "metadata": {},
   "outputs": [
    {
     "data": {
      "text/html": [
       "<div>\n",
       "<style scoped>\n",
       "    .dataframe tbody tr th:only-of-type {\n",
       "        vertical-align: middle;\n",
       "    }\n",
       "\n",
       "    .dataframe tbody tr th {\n",
       "        vertical-align: top;\n",
       "    }\n",
       "\n",
       "    .dataframe thead th {\n",
       "        text-align: right;\n",
       "    }\n",
       "</style>\n",
       "<table border=\"1\" class=\"dataframe\">\n",
       "  <thead>\n",
       "    <tr style=\"text-align: right;\">\n",
       "      <th></th>\n",
       "      <th>twitts</th>\n",
       "      <th>sentiment</th>\n",
       "      <th>word_counts</th>\n",
       "      <th>char_counts</th>\n",
       "      <th>Avg_word_length</th>\n",
       "      <th>stop_words_len</th>\n",
       "      <th>hashtags_count</th>\n",
       "      <th>mentions_counts</th>\n",
       "      <th>numeric_digits_count</th>\n",
       "    </tr>\n",
       "  </thead>\n",
       "  <tbody>\n",
       "    <tr>\n",
       "      <th>0</th>\n",
       "      <td>is bored and wants to watch a movie  any sugge...</td>\n",
       "      <td>0</td>\n",
       "      <td>10</td>\n",
       "      <td>43</td>\n",
       "      <td>4.300000</td>\n",
       "      <td>5</td>\n",
       "      <td>0</td>\n",
       "      <td>0</td>\n",
       "      <td>0</td>\n",
       "    </tr>\n",
       "    <tr>\n",
       "      <th>1</th>\n",
       "      <td>back in miami.  waiting to unboard ship</td>\n",
       "      <td>0</td>\n",
       "      <td>7</td>\n",
       "      <td>32</td>\n",
       "      <td>4.571429</td>\n",
       "      <td>3</td>\n",
       "      <td>0</td>\n",
       "      <td>0</td>\n",
       "      <td>0</td>\n",
       "    </tr>\n",
       "    <tr>\n",
       "      <th>2</th>\n",
       "      <td>@misskpey awwww dnt dis brng bak memoriessss, ...</td>\n",
       "      <td>0</td>\n",
       "      <td>12</td>\n",
       "      <td>54</td>\n",
       "      <td>4.500000</td>\n",
       "      <td>0</td>\n",
       "      <td>0</td>\n",
       "      <td>1</td>\n",
       "      <td>0</td>\n",
       "    </tr>\n",
       "    <tr>\n",
       "      <th>3</th>\n",
       "      <td>ughhh i am so tired  blahhhhhhhhh</td>\n",
       "      <td>0</td>\n",
       "      <td>6</td>\n",
       "      <td>27</td>\n",
       "      <td>4.500000</td>\n",
       "      <td>3</td>\n",
       "      <td>0</td>\n",
       "      <td>0</td>\n",
       "      <td>0</td>\n",
       "    </tr>\n",
       "    <tr>\n",
       "      <th>4</th>\n",
       "      <td>@mandagoforth me bad! It's funny though. Zacha...</td>\n",
       "      <td>0</td>\n",
       "      <td>26</td>\n",
       "      <td>116</td>\n",
       "      <td>4.461538</td>\n",
       "      <td>13</td>\n",
       "      <td>0</td>\n",
       "      <td>2</td>\n",
       "      <td>0</td>\n",
       "    </tr>\n",
       "  </tbody>\n",
       "</table>\n",
       "</div>"
      ],
      "text/plain": [
       "                                              twitts  sentiment  word_counts  \\\n",
       "0  is bored and wants to watch a movie  any sugge...          0           10   \n",
       "1           back in miami.  waiting to unboard ship           0            7   \n",
       "2  @misskpey awwww dnt dis brng bak memoriessss, ...          0           12   \n",
       "3                  ughhh i am so tired  blahhhhhhhhh          0            6   \n",
       "4  @mandagoforth me bad! It's funny though. Zacha...          0           26   \n",
       "\n",
       "   char_counts  Avg_word_length  stop_words_len  hashtags_count  \\\n",
       "0           43         4.300000               5               0   \n",
       "1           32         4.571429               3               0   \n",
       "2           54         4.500000               0               0   \n",
       "3           27         4.500000               3               0   \n",
       "4          116         4.461538              13               0   \n",
       "\n",
       "   mentions_counts  numeric_digits_count  \n",
       "0                0                     0  \n",
       "1                0                     0  \n",
       "2                1                     0  \n",
       "3                0                     0  \n",
       "4                2                     0  "
      ]
     },
     "execution_count": 31,
     "metadata": {},
     "output_type": "execute_result"
    }
   ],
   "source": [
    "df.head()"
   ]
  },
  {
   "cell_type": "code",
   "execution_count": 32,
   "metadata": {},
   "outputs": [],
   "source": [
    "x='I Am HAPPY'.split()"
   ]
  },
  {
   "cell_type": "code",
   "execution_count": 33,
   "metadata": {},
   "outputs": [
    {
     "data": {
      "text/plain": [
       "['I', 'Am', 'HAPPY']"
      ]
     },
     "execution_count": 33,
     "metadata": {},
     "output_type": "execute_result"
    }
   ],
   "source": [
    "x"
   ]
  },
  {
   "cell_type": "code",
   "execution_count": 34,
   "metadata": {},
   "outputs": [
    {
     "data": {
      "text/plain": [
       "False"
      ]
     },
     "execution_count": 34,
     "metadata": {},
     "output_type": "execute_result"
    }
   ],
   "source": [
    "x[1].isupper()"
   ]
  },
  {
   "cell_type": "code",
   "execution_count": 35,
   "metadata": {},
   "outputs": [],
   "source": [
    "df['upper_counts']=df['twitts'].apply(lambda x:len([t for t in x.split() if t.isupper()]))"
   ]
  },
  {
   "cell_type": "code",
   "execution_count": 36,
   "metadata": {},
   "outputs": [],
   "source": [
    "df['twitts']=df.twitts.apply(lambda x:str(x).lower())"
   ]
  },
  {
   "cell_type": "code",
   "execution_count": 37,
   "metadata": {},
   "outputs": [
    {
     "data": {
      "text/html": [
       "<div>\n",
       "<style scoped>\n",
       "    .dataframe tbody tr th:only-of-type {\n",
       "        vertical-align: middle;\n",
       "    }\n",
       "\n",
       "    .dataframe tbody tr th {\n",
       "        vertical-align: top;\n",
       "    }\n",
       "\n",
       "    .dataframe thead th {\n",
       "        text-align: right;\n",
       "    }\n",
       "</style>\n",
       "<table border=\"1\" class=\"dataframe\">\n",
       "  <thead>\n",
       "    <tr style=\"text-align: right;\">\n",
       "      <th></th>\n",
       "      <th>twitts</th>\n",
       "      <th>sentiment</th>\n",
       "      <th>word_counts</th>\n",
       "      <th>char_counts</th>\n",
       "      <th>Avg_word_length</th>\n",
       "      <th>stop_words_len</th>\n",
       "      <th>hashtags_count</th>\n",
       "      <th>mentions_counts</th>\n",
       "      <th>numeric_digits_count</th>\n",
       "      <th>upper_counts</th>\n",
       "    </tr>\n",
       "  </thead>\n",
       "  <tbody>\n",
       "    <tr>\n",
       "      <th>0</th>\n",
       "      <td>is bored and wants to watch a movie  any sugge...</td>\n",
       "      <td>0</td>\n",
       "      <td>10</td>\n",
       "      <td>43</td>\n",
       "      <td>4.300000</td>\n",
       "      <td>5</td>\n",
       "      <td>0</td>\n",
       "      <td>0</td>\n",
       "      <td>0</td>\n",
       "      <td>0</td>\n",
       "    </tr>\n",
       "    <tr>\n",
       "      <th>1</th>\n",
       "      <td>back in miami.  waiting to unboard ship</td>\n",
       "      <td>0</td>\n",
       "      <td>7</td>\n",
       "      <td>32</td>\n",
       "      <td>4.571429</td>\n",
       "      <td>3</td>\n",
       "      <td>0</td>\n",
       "      <td>0</td>\n",
       "      <td>0</td>\n",
       "      <td>0</td>\n",
       "    </tr>\n",
       "    <tr>\n",
       "      <th>2</th>\n",
       "      <td>@misskpey awwww dnt dis brng bak memoriessss, ...</td>\n",
       "      <td>0</td>\n",
       "      <td>12</td>\n",
       "      <td>54</td>\n",
       "      <td>4.500000</td>\n",
       "      <td>0</td>\n",
       "      <td>0</td>\n",
       "      <td>1</td>\n",
       "      <td>0</td>\n",
       "      <td>1</td>\n",
       "    </tr>\n",
       "    <tr>\n",
       "      <th>3</th>\n",
       "      <td>ughhh i am so tired  blahhhhhhhhh</td>\n",
       "      <td>0</td>\n",
       "      <td>6</td>\n",
       "      <td>27</td>\n",
       "      <td>4.500000</td>\n",
       "      <td>3</td>\n",
       "      <td>0</td>\n",
       "      <td>0</td>\n",
       "      <td>0</td>\n",
       "      <td>0</td>\n",
       "    </tr>\n",
       "    <tr>\n",
       "      <th>4</th>\n",
       "      <td>@mandagoforth me bad! it's funny though. zacha...</td>\n",
       "      <td>0</td>\n",
       "      <td>26</td>\n",
       "      <td>116</td>\n",
       "      <td>4.461538</td>\n",
       "      <td>13</td>\n",
       "      <td>0</td>\n",
       "      <td>2</td>\n",
       "      <td>0</td>\n",
       "      <td>0</td>\n",
       "    </tr>\n",
       "  </tbody>\n",
       "</table>\n",
       "</div>"
      ],
      "text/plain": [
       "                                              twitts  sentiment  word_counts  \\\n",
       "0  is bored and wants to watch a movie  any sugge...          0           10   \n",
       "1           back in miami.  waiting to unboard ship           0            7   \n",
       "2  @misskpey awwww dnt dis brng bak memoriessss, ...          0           12   \n",
       "3                  ughhh i am so tired  blahhhhhhhhh          0            6   \n",
       "4  @mandagoforth me bad! it's funny though. zacha...          0           26   \n",
       "\n",
       "   char_counts  Avg_word_length  stop_words_len  hashtags_count  \\\n",
       "0           43         4.300000               5               0   \n",
       "1           32         4.571429               3               0   \n",
       "2           54         4.500000               0               0   \n",
       "3           27         4.500000               3               0   \n",
       "4          116         4.461538              13               0   \n",
       "\n",
       "   mentions_counts  numeric_digits_count  upper_counts  \n",
       "0                0                     0             0  \n",
       "1                0                     0             0  \n",
       "2                1                     0             1  \n",
       "3                0                     0             0  \n",
       "4                2                     0             0  "
      ]
     },
     "execution_count": 37,
     "metadata": {},
     "output_type": "execute_result"
    }
   ],
   "source": [
    "df.head()"
   ]
  },
  {
   "cell_type": "code",
   "execution_count": 38,
   "metadata": {},
   "outputs": [],
   "source": [
    "# Contraction to expansions"
   ]
  },
  {
   "cell_type": "code",
   "execution_count": 39,
   "metadata": {},
   "outputs": [],
   "source": [
    "contractions = { \n",
    "\"ain't\": \"am not\",\n",
    "\"aren't\": \"are not\",\n",
    "\"can't\": \"cannot\",\n",
    "\"can't've\": \"cannot have\",\n",
    "\"'cause\": \"because\",\n",
    "\"could've\": \"could have\",\n",
    "\"couldn't\": \"could not\",\n",
    "\"couldn't've\": \"could not have\",\n",
    "\"didn't\": \"did not\",\n",
    "\"doesn't\": \"does not\",\n",
    "\"don't\": \"do not\",\n",
    "\"hadn't\": \"had not\",\n",
    "\"hadn't've\": \"had not have\",\n",
    "\"hasn't\": \"has not\",\n",
    "\"haven't\": \"have not\",\n",
    "\"he'd\": \"he would\",\n",
    "\"he'd've\": \"he would have\",\n",
    "\"he'll\": \"he will\",\n",
    "\"he'll've\": \"he will have\",\n",
    "\"he's\": \"he is\",\n",
    "\"how'd\": \"how did\",\n",
    "\"how'd'y\": \"how do you\",\n",
    "\"how'll\": \"how will\",\n",
    "\"how's\": \"how does\",\n",
    "\"i'd\": \"i would\",\n",
    "\"i'd've\": \"i would have\",\n",
    "\"i'll\": \"i will\",\n",
    "\"i'll've\": \"i will have\",\n",
    "\"i'm\": \"i am\",\n",
    "\"i've\": \"i have\",\n",
    "\"isn't\": \"is not\",\n",
    "\"it'd\": \"it would\",\n",
    "\"it'd've\": \"it would have\",\n",
    "\"it'll\": \"it will\",\n",
    "\"it'll've\": \"it will have\",\n",
    "\"it's\": \"it is\",\n",
    "\"let's\": \"let us\",\n",
    "\"ma'am\": \"madam\",\n",
    "\"mayn't\": \"may not\",\n",
    "\"might've\": \"might have\",\n",
    "\"mightn't\": \"might not\",\n",
    "\"mightn't've\": \"might not have\",\n",
    "\"must've\": \"must have\",\n",
    "\"mustn't\": \"must not\",\n",
    "\"mustn't've\": \"must not have\",\n",
    "\"needn't\": \"need not\",\n",
    "\"needn't've\": \"need not have\",\n",
    "\"o'clock\": \"of the clock\",\n",
    "\"oughtn't\": \"ought not\",\n",
    "\"oughtn't've\": \"ought not have\",\n",
    "\"shan't\": \"shall not\",\n",
    "\"sha'n't\": \"shall not\",\n",
    "\"shan't've\": \"shall not have\",\n",
    "\"she'd\": \"she would\",\n",
    "\"she'd've\": \"she would have\",\n",
    "\"she'll\": \"she will\",\n",
    "\"she'll've\": \"she will have\",\n",
    "\"she's\": \"she is\",\n",
    "\"should've\": \"should have\",\n",
    "\"shouldn't\": \"should not\",\n",
    "\"shouldn't've\": \"should not have\",\n",
    "\"so've\": \"so have\",\n",
    "\"so's\": \"so is\",\n",
    "\"that'd\": \"that would\",\n",
    "\"that'd've\": \"that would have\",\n",
    "\"that's\": \"that is\",\n",
    "\"there'd\": \"there would\",\n",
    "\"there'd've\": \"there would have\",\n",
    "\"there's\": \"there is\",\n",
    "\"they'd\": \"they would\",\n",
    "\"they'd've\": \"they would have\",\n",
    "\"they'll\": \"they will\",\n",
    "\"they'll've\": \"they will have\",\n",
    "\"they're\": \"they are\",\n",
    "\"they've\": \"they have\",\n",
    "\"to've\": \"to have\",\n",
    "\"wasn't\": \"was not\",\n",
    "\" u \": \" you \",\n",
    "\" ur \": \" your \",\n",
    "\" n \": \" and \",\n",
    "\"won't\": \"would not\",\n",
    "'dis': 'this',\n",
    "'bak': 'back',\n",
    "'brng': 'bring'}"
   ]
  },
  {
   "cell_type": "code",
   "execution_count": 40,
   "metadata": {},
   "outputs": [
    {
     "data": {
      "text/plain": [
       "84"
      ]
     },
     "execution_count": 40,
     "metadata": {},
     "output_type": "execute_result"
    }
   ],
   "source": [
    "len(contractions)"
   ]
  },
  {
   "cell_type": "code",
   "execution_count": 41,
   "metadata": {},
   "outputs": [],
   "source": [
    "x=\"i'm don't he'll\""
   ]
  },
  {
   "cell_type": "code",
   "execution_count": 42,
   "metadata": {},
   "outputs": [],
   "source": [
    "def cont_to_exp(x):\n",
    "    if type(x) is str:\n",
    "        for key in contractions:\n",
    "            value=contractions[key]\n",
    "            x=x.replace(key,value)\n",
    "        return x\n",
    "    else:\n",
    "        return x"
   ]
  },
  {
   "cell_type": "code",
   "execution_count": 43,
   "metadata": {},
   "outputs": [],
   "source": [
    "df.twitts=df.twitts.apply(lambda x:cont_to_exp(x))"
   ]
  },
  {
   "cell_type": "code",
   "execution_count": 44,
   "metadata": {},
   "outputs": [
    {
     "data": {
      "text/html": [
       "<div>\n",
       "<style scoped>\n",
       "    .dataframe tbody tr th:only-of-type {\n",
       "        vertical-align: middle;\n",
       "    }\n",
       "\n",
       "    .dataframe tbody tr th {\n",
       "        vertical-align: top;\n",
       "    }\n",
       "\n",
       "    .dataframe thead th {\n",
       "        text-align: right;\n",
       "    }\n",
       "</style>\n",
       "<table border=\"1\" class=\"dataframe\">\n",
       "  <thead>\n",
       "    <tr style=\"text-align: right;\">\n",
       "      <th></th>\n",
       "      <th>twitts</th>\n",
       "      <th>sentiment</th>\n",
       "      <th>word_counts</th>\n",
       "      <th>char_counts</th>\n",
       "      <th>Avg_word_length</th>\n",
       "      <th>stop_words_len</th>\n",
       "      <th>hashtags_count</th>\n",
       "      <th>mentions_counts</th>\n",
       "      <th>numeric_digits_count</th>\n",
       "      <th>upper_counts</th>\n",
       "    </tr>\n",
       "  </thead>\n",
       "  <tbody>\n",
       "    <tr>\n",
       "      <th>0</th>\n",
       "      <td>is bored and wants to watch a movie  any sugge...</td>\n",
       "      <td>0</td>\n",
       "      <td>10</td>\n",
       "      <td>43</td>\n",
       "      <td>4.300000</td>\n",
       "      <td>5</td>\n",
       "      <td>0</td>\n",
       "      <td>0</td>\n",
       "      <td>0</td>\n",
       "      <td>0</td>\n",
       "    </tr>\n",
       "    <tr>\n",
       "      <th>1</th>\n",
       "      <td>back in miami.  waiting to unboard ship</td>\n",
       "      <td>0</td>\n",
       "      <td>7</td>\n",
       "      <td>32</td>\n",
       "      <td>4.571429</td>\n",
       "      <td>3</td>\n",
       "      <td>0</td>\n",
       "      <td>0</td>\n",
       "      <td>0</td>\n",
       "      <td>0</td>\n",
       "    </tr>\n",
       "    <tr>\n",
       "      <th>2</th>\n",
       "      <td>@misskpey awwww dnt this bring back memoriesss...</td>\n",
       "      <td>0</td>\n",
       "      <td>12</td>\n",
       "      <td>54</td>\n",
       "      <td>4.500000</td>\n",
       "      <td>0</td>\n",
       "      <td>0</td>\n",
       "      <td>1</td>\n",
       "      <td>0</td>\n",
       "      <td>1</td>\n",
       "    </tr>\n",
       "    <tr>\n",
       "      <th>3</th>\n",
       "      <td>ughhh i am so tired  blahhhhhhhhh</td>\n",
       "      <td>0</td>\n",
       "      <td>6</td>\n",
       "      <td>27</td>\n",
       "      <td>4.500000</td>\n",
       "      <td>3</td>\n",
       "      <td>0</td>\n",
       "      <td>0</td>\n",
       "      <td>0</td>\n",
       "      <td>0</td>\n",
       "    </tr>\n",
       "    <tr>\n",
       "      <th>4</th>\n",
       "      <td>@mandagoforth me bad! it is funny though. zach...</td>\n",
       "      <td>0</td>\n",
       "      <td>26</td>\n",
       "      <td>116</td>\n",
       "      <td>4.461538</td>\n",
       "      <td>13</td>\n",
       "      <td>0</td>\n",
       "      <td>2</td>\n",
       "      <td>0</td>\n",
       "      <td>0</td>\n",
       "    </tr>\n",
       "  </tbody>\n",
       "</table>\n",
       "</div>"
      ],
      "text/plain": [
       "                                              twitts  sentiment  word_counts  \\\n",
       "0  is bored and wants to watch a movie  any sugge...          0           10   \n",
       "1           back in miami.  waiting to unboard ship           0            7   \n",
       "2  @misskpey awwww dnt this bring back memoriesss...          0           12   \n",
       "3                  ughhh i am so tired  blahhhhhhhhh          0            6   \n",
       "4  @mandagoforth me bad! it is funny though. zach...          0           26   \n",
       "\n",
       "   char_counts  Avg_word_length  stop_words_len  hashtags_count  \\\n",
       "0           43         4.300000               5               0   \n",
       "1           32         4.571429               3               0   \n",
       "2           54         4.500000               0               0   \n",
       "3           27         4.500000               3               0   \n",
       "4          116         4.461538              13               0   \n",
       "\n",
       "   mentions_counts  numeric_digits_count  upper_counts  \n",
       "0                0                     0             0  \n",
       "1                0                     0             0  \n",
       "2                1                     0             1  \n",
       "3                0                     0             0  \n",
       "4                2                     0             0  "
      ]
     },
     "execution_count": 44,
     "metadata": {},
     "output_type": "execute_result"
    }
   ],
   "source": [
    "df.head()"
   ]
  },
  {
   "cell_type": "code",
   "execution_count": 45,
   "metadata": {},
   "outputs": [
    {
     "data": {
      "text/plain": [
       "89    @beautifoul i am afraid i would not have a cha...\n",
       "Name: twitts, dtype: object"
      ]
     },
     "execution_count": 45,
     "metadata": {},
     "output_type": "execute_result"
    }
   ],
   "source": [
    "df.twitts[89:90]"
   ]
  },
  {
   "cell_type": "code",
   "execution_count": 46,
   "metadata": {},
   "outputs": [
    {
     "data": {
      "text/html": [
       "<div>\n",
       "<style scoped>\n",
       "    .dataframe tbody tr th:only-of-type {\n",
       "        vertical-align: middle;\n",
       "    }\n",
       "\n",
       "    .dataframe tbody tr th {\n",
       "        vertical-align: top;\n",
       "    }\n",
       "\n",
       "    .dataframe thead th {\n",
       "        text-align: right;\n",
       "    }\n",
       "</style>\n",
       "<table border=\"1\" class=\"dataframe\">\n",
       "  <thead>\n",
       "    <tr style=\"text-align: right;\">\n",
       "      <th></th>\n",
       "      <th>twitts</th>\n",
       "      <th>sentiment</th>\n",
       "      <th>word_counts</th>\n",
       "      <th>char_counts</th>\n",
       "      <th>Avg_word_length</th>\n",
       "      <th>stop_words_len</th>\n",
       "      <th>hashtags_count</th>\n",
       "      <th>mentions_counts</th>\n",
       "      <th>numeric_digits_count</th>\n",
       "      <th>upper_counts</th>\n",
       "    </tr>\n",
       "  </thead>\n",
       "  <tbody>\n",
       "    <tr>\n",
       "      <th>3713</th>\n",
       "      <td>@securerecs arghh me please  markbradbury_16@h...</td>\n",
       "      <td>1</td>\n",
       "      <td>5</td>\n",
       "      <td>51</td>\n",
       "      <td>10.2</td>\n",
       "      <td>0</td>\n",
       "      <td>0</td>\n",
       "      <td>1</td>\n",
       "      <td>0</td>\n",
       "      <td>0</td>\n",
       "    </tr>\n",
       "  </tbody>\n",
       "</table>\n",
       "</div>"
      ],
      "text/plain": [
       "                                                 twitts  sentiment  \\\n",
       "3713  @securerecs arghh me please  markbradbury_16@h...          1   \n",
       "\n",
       "      word_counts  char_counts  Avg_word_length  stop_words_len  \\\n",
       "3713            5           51             10.2               0   \n",
       "\n",
       "      hashtags_count  mentions_counts  numeric_digits_count  upper_counts  \n",
       "3713               0                1                     0             0  "
      ]
     },
     "execution_count": 46,
     "metadata": {},
     "output_type": "execute_result"
    }
   ],
   "source": [
    "df[df.twitts.str.contains('hotmail.com')]"
   ]
  },
  {
   "cell_type": "code",
   "execution_count": 47,
   "metadata": {},
   "outputs": [
    {
     "data": {
      "text/plain": [
       "'@securerecs arghh me please  markbradbury_16@hotmail.com'"
      ]
     },
     "execution_count": 47,
     "metadata": {},
     "output_type": "execute_result"
    }
   ],
   "source": [
    "df.iloc[3713]['twitts']"
   ]
  },
  {
   "cell_type": "code",
   "execution_count": 48,
   "metadata": {},
   "outputs": [],
   "source": [
    "import re"
   ]
  },
  {
   "cell_type": "code",
   "execution_count": 49,
   "metadata": {},
   "outputs": [],
   "source": [
    "x='@securerecs arghh me please  markbradbury_16@hotmail.com'"
   ]
  },
  {
   "cell_type": "code",
   "execution_count": 50,
   "metadata": {},
   "outputs": [
    {
     "data": {
      "text/plain": [
       "['markbradbury_16@hotmail.com']"
      ]
     },
     "execution_count": 50,
     "metadata": {},
     "output_type": "execute_result"
    }
   ],
   "source": [
    "re.findall(r'([a-z0-9+._-]+@[a-z0-9+._-]+\\.[a-z0-9+_-]+)', x)"
   ]
  },
  {
   "cell_type": "code",
   "execution_count": 51,
   "metadata": {},
   "outputs": [],
   "source": [
    "df['emails']=df.twitts.apply(lambda x:re.findall(r'([a-z0-9+._-]+@[a-z0-9+._-]+\\.[a-z0-9+_-]+)', x) )"
   ]
  },
  {
   "cell_type": "code",
   "execution_count": 52,
   "metadata": {},
   "outputs": [
    {
     "data": {
      "text/html": [
       "<div>\n",
       "<style scoped>\n",
       "    .dataframe tbody tr th:only-of-type {\n",
       "        vertical-align: middle;\n",
       "    }\n",
       "\n",
       "    .dataframe tbody tr th {\n",
       "        vertical-align: top;\n",
       "    }\n",
       "\n",
       "    .dataframe thead th {\n",
       "        text-align: right;\n",
       "    }\n",
       "</style>\n",
       "<table border=\"1\" class=\"dataframe\">\n",
       "  <thead>\n",
       "    <tr style=\"text-align: right;\">\n",
       "      <th></th>\n",
       "      <th>twitts</th>\n",
       "      <th>sentiment</th>\n",
       "      <th>word_counts</th>\n",
       "      <th>char_counts</th>\n",
       "      <th>Avg_word_length</th>\n",
       "      <th>stop_words_len</th>\n",
       "      <th>hashtags_count</th>\n",
       "      <th>mentions_counts</th>\n",
       "      <th>numeric_digits_count</th>\n",
       "      <th>upper_counts</th>\n",
       "      <th>emails</th>\n",
       "    </tr>\n",
       "  </thead>\n",
       "  <tbody>\n",
       "    <tr>\n",
       "      <th>0</th>\n",
       "      <td>is bored and wants to watch a movie  any sugge...</td>\n",
       "      <td>0</td>\n",
       "      <td>10</td>\n",
       "      <td>43</td>\n",
       "      <td>4.300000</td>\n",
       "      <td>5</td>\n",
       "      <td>0</td>\n",
       "      <td>0</td>\n",
       "      <td>0</td>\n",
       "      <td>0</td>\n",
       "      <td>[]</td>\n",
       "    </tr>\n",
       "    <tr>\n",
       "      <th>1</th>\n",
       "      <td>back in miami.  waiting to unboard ship</td>\n",
       "      <td>0</td>\n",
       "      <td>7</td>\n",
       "      <td>32</td>\n",
       "      <td>4.571429</td>\n",
       "      <td>3</td>\n",
       "      <td>0</td>\n",
       "      <td>0</td>\n",
       "      <td>0</td>\n",
       "      <td>0</td>\n",
       "      <td>[]</td>\n",
       "    </tr>\n",
       "    <tr>\n",
       "      <th>2</th>\n",
       "      <td>@misskpey awwww dnt this bring back memoriesss...</td>\n",
       "      <td>0</td>\n",
       "      <td>12</td>\n",
       "      <td>54</td>\n",
       "      <td>4.500000</td>\n",
       "      <td>0</td>\n",
       "      <td>0</td>\n",
       "      <td>1</td>\n",
       "      <td>0</td>\n",
       "      <td>1</td>\n",
       "      <td>[]</td>\n",
       "    </tr>\n",
       "    <tr>\n",
       "      <th>3</th>\n",
       "      <td>ughhh i am so tired  blahhhhhhhhh</td>\n",
       "      <td>0</td>\n",
       "      <td>6</td>\n",
       "      <td>27</td>\n",
       "      <td>4.500000</td>\n",
       "      <td>3</td>\n",
       "      <td>0</td>\n",
       "      <td>0</td>\n",
       "      <td>0</td>\n",
       "      <td>0</td>\n",
       "      <td>[]</td>\n",
       "    </tr>\n",
       "    <tr>\n",
       "      <th>4</th>\n",
       "      <td>@mandagoforth me bad! it is funny though. zach...</td>\n",
       "      <td>0</td>\n",
       "      <td>26</td>\n",
       "      <td>116</td>\n",
       "      <td>4.461538</td>\n",
       "      <td>13</td>\n",
       "      <td>0</td>\n",
       "      <td>2</td>\n",
       "      <td>0</td>\n",
       "      <td>0</td>\n",
       "      <td>[]</td>\n",
       "    </tr>\n",
       "  </tbody>\n",
       "</table>\n",
       "</div>"
      ],
      "text/plain": [
       "                                              twitts  sentiment  word_counts  \\\n",
       "0  is bored and wants to watch a movie  any sugge...          0           10   \n",
       "1           back in miami.  waiting to unboard ship           0            7   \n",
       "2  @misskpey awwww dnt this bring back memoriesss...          0           12   \n",
       "3                  ughhh i am so tired  blahhhhhhhhh          0            6   \n",
       "4  @mandagoforth me bad! it is funny though. zach...          0           26   \n",
       "\n",
       "   char_counts  Avg_word_length  stop_words_len  hashtags_count  \\\n",
       "0           43         4.300000               5               0   \n",
       "1           32         4.571429               3               0   \n",
       "2           54         4.500000               0               0   \n",
       "3           27         4.500000               3               0   \n",
       "4          116         4.461538              13               0   \n",
       "\n",
       "   mentions_counts  numeric_digits_count  upper_counts emails  \n",
       "0                0                     0             0     []  \n",
       "1                0                     0             0     []  \n",
       "2                1                     0             1     []  \n",
       "3                0                     0             0     []  \n",
       "4                2                     0             0     []  "
      ]
     },
     "execution_count": 52,
     "metadata": {},
     "output_type": "execute_result"
    }
   ],
   "source": [
    "df.head()"
   ]
  },
  {
   "cell_type": "code",
   "execution_count": 53,
   "metadata": {},
   "outputs": [],
   "source": [
    "df['emails_count']=df.emails.apply(lambda x:len(x))"
   ]
  },
  {
   "cell_type": "code",
   "execution_count": 54,
   "metadata": {},
   "outputs": [
    {
     "data": {
      "text/html": [
       "<div>\n",
       "<style scoped>\n",
       "    .dataframe tbody tr th:only-of-type {\n",
       "        vertical-align: middle;\n",
       "    }\n",
       "\n",
       "    .dataframe tbody tr th {\n",
       "        vertical-align: top;\n",
       "    }\n",
       "\n",
       "    .dataframe thead th {\n",
       "        text-align: right;\n",
       "    }\n",
       "</style>\n",
       "<table border=\"1\" class=\"dataframe\">\n",
       "  <thead>\n",
       "    <tr style=\"text-align: right;\">\n",
       "      <th></th>\n",
       "      <th>twitts</th>\n",
       "      <th>sentiment</th>\n",
       "      <th>word_counts</th>\n",
       "      <th>char_counts</th>\n",
       "      <th>Avg_word_length</th>\n",
       "      <th>stop_words_len</th>\n",
       "      <th>hashtags_count</th>\n",
       "      <th>mentions_counts</th>\n",
       "      <th>numeric_digits_count</th>\n",
       "      <th>upper_counts</th>\n",
       "      <th>emails</th>\n",
       "      <th>emails_count</th>\n",
       "    </tr>\n",
       "  </thead>\n",
       "  <tbody>\n",
       "    <tr>\n",
       "      <th>0</th>\n",
       "      <td>is bored and wants to watch a movie  any sugge...</td>\n",
       "      <td>0</td>\n",
       "      <td>10</td>\n",
       "      <td>43</td>\n",
       "      <td>4.300000</td>\n",
       "      <td>5</td>\n",
       "      <td>0</td>\n",
       "      <td>0</td>\n",
       "      <td>0</td>\n",
       "      <td>0</td>\n",
       "      <td>[]</td>\n",
       "      <td>0</td>\n",
       "    </tr>\n",
       "    <tr>\n",
       "      <th>1</th>\n",
       "      <td>back in miami.  waiting to unboard ship</td>\n",
       "      <td>0</td>\n",
       "      <td>7</td>\n",
       "      <td>32</td>\n",
       "      <td>4.571429</td>\n",
       "      <td>3</td>\n",
       "      <td>0</td>\n",
       "      <td>0</td>\n",
       "      <td>0</td>\n",
       "      <td>0</td>\n",
       "      <td>[]</td>\n",
       "      <td>0</td>\n",
       "    </tr>\n",
       "    <tr>\n",
       "      <th>2</th>\n",
       "      <td>@misskpey awwww dnt this bring back memoriesss...</td>\n",
       "      <td>0</td>\n",
       "      <td>12</td>\n",
       "      <td>54</td>\n",
       "      <td>4.500000</td>\n",
       "      <td>0</td>\n",
       "      <td>0</td>\n",
       "      <td>1</td>\n",
       "      <td>0</td>\n",
       "      <td>1</td>\n",
       "      <td>[]</td>\n",
       "      <td>0</td>\n",
       "    </tr>\n",
       "    <tr>\n",
       "      <th>3</th>\n",
       "      <td>ughhh i am so tired  blahhhhhhhhh</td>\n",
       "      <td>0</td>\n",
       "      <td>6</td>\n",
       "      <td>27</td>\n",
       "      <td>4.500000</td>\n",
       "      <td>3</td>\n",
       "      <td>0</td>\n",
       "      <td>0</td>\n",
       "      <td>0</td>\n",
       "      <td>0</td>\n",
       "      <td>[]</td>\n",
       "      <td>0</td>\n",
       "    </tr>\n",
       "    <tr>\n",
       "      <th>4</th>\n",
       "      <td>@mandagoforth me bad! it is funny though. zach...</td>\n",
       "      <td>0</td>\n",
       "      <td>26</td>\n",
       "      <td>116</td>\n",
       "      <td>4.461538</td>\n",
       "      <td>13</td>\n",
       "      <td>0</td>\n",
       "      <td>2</td>\n",
       "      <td>0</td>\n",
       "      <td>0</td>\n",
       "      <td>[]</td>\n",
       "      <td>0</td>\n",
       "    </tr>\n",
       "  </tbody>\n",
       "</table>\n",
       "</div>"
      ],
      "text/plain": [
       "                                              twitts  sentiment  word_counts  \\\n",
       "0  is bored and wants to watch a movie  any sugge...          0           10   \n",
       "1           back in miami.  waiting to unboard ship           0            7   \n",
       "2  @misskpey awwww dnt this bring back memoriesss...          0           12   \n",
       "3                  ughhh i am so tired  blahhhhhhhhh          0            6   \n",
       "4  @mandagoforth me bad! it is funny though. zach...          0           26   \n",
       "\n",
       "   char_counts  Avg_word_length  stop_words_len  hashtags_count  \\\n",
       "0           43         4.300000               5               0   \n",
       "1           32         4.571429               3               0   \n",
       "2           54         4.500000               0               0   \n",
       "3           27         4.500000               3               0   \n",
       "4          116         4.461538              13               0   \n",
       "\n",
       "   mentions_counts  numeric_digits_count  upper_counts emails  emails_count  \n",
       "0                0                     0             0     []             0  \n",
       "1                0                     0             0     []             0  \n",
       "2                1                     0             1     []             0  \n",
       "3                0                     0             0     []             0  \n",
       "4                2                     0             0     []             0  "
      ]
     },
     "execution_count": 54,
     "metadata": {},
     "output_type": "execute_result"
    }
   ],
   "source": [
    "df.head()"
   ]
  },
  {
   "cell_type": "code",
   "execution_count": 55,
   "metadata": {},
   "outputs": [
    {
     "data": {
      "text/html": [
       "<div>\n",
       "<style scoped>\n",
       "    .dataframe tbody tr th:only-of-type {\n",
       "        vertical-align: middle;\n",
       "    }\n",
       "\n",
       "    .dataframe tbody tr th {\n",
       "        vertical-align: top;\n",
       "    }\n",
       "\n",
       "    .dataframe thead th {\n",
       "        text-align: right;\n",
       "    }\n",
       "</style>\n",
       "<table border=\"1\" class=\"dataframe\">\n",
       "  <thead>\n",
       "    <tr style=\"text-align: right;\">\n",
       "      <th></th>\n",
       "      <th>twitts</th>\n",
       "      <th>sentiment</th>\n",
       "      <th>word_counts</th>\n",
       "      <th>char_counts</th>\n",
       "      <th>Avg_word_length</th>\n",
       "      <th>stop_words_len</th>\n",
       "      <th>hashtags_count</th>\n",
       "      <th>mentions_counts</th>\n",
       "      <th>numeric_digits_count</th>\n",
       "      <th>upper_counts</th>\n",
       "      <th>emails</th>\n",
       "      <th>emails_count</th>\n",
       "    </tr>\n",
       "  </thead>\n",
       "  <tbody>\n",
       "    <tr>\n",
       "      <th>3713</th>\n",
       "      <td>@securerecs arghh me please  markbradbury_16@h...</td>\n",
       "      <td>1</td>\n",
       "      <td>5</td>\n",
       "      <td>51</td>\n",
       "      <td>10.2</td>\n",
       "      <td>0</td>\n",
       "      <td>0</td>\n",
       "      <td>1</td>\n",
       "      <td>0</td>\n",
       "      <td>0</td>\n",
       "      <td>[markbradbury_16@hotmail.com]</td>\n",
       "      <td>1</td>\n",
       "    </tr>\n",
       "  </tbody>\n",
       "</table>\n",
       "</div>"
      ],
      "text/plain": [
       "                                                 twitts  sentiment  \\\n",
       "3713  @securerecs arghh me please  markbradbury_16@h...          1   \n",
       "\n",
       "      word_counts  char_counts  Avg_word_length  stop_words_len  \\\n",
       "3713            5           51             10.2               0   \n",
       "\n",
       "      hashtags_count  mentions_counts  numeric_digits_count  upper_counts  \\\n",
       "3713               0                1                     0             0   \n",
       "\n",
       "                             emails  emails_count  \n",
       "3713  [markbradbury_16@hotmail.com]             1  "
      ]
     },
     "execution_count": 55,
     "metadata": {},
     "output_type": "execute_result"
    }
   ],
   "source": [
    "df[df.emails_count>0]"
   ]
  },
  {
   "cell_type": "code",
   "execution_count": 56,
   "metadata": {},
   "outputs": [
    {
     "data": {
      "text/plain": [
       "'@securerecs arghh me please  '"
      ]
     },
     "execution_count": 56,
     "metadata": {},
     "output_type": "execute_result"
    }
   ],
   "source": [
    "re.sub(r'([a-z0-9+._-]+@[a-z0-9+._-]+\\.[a-z0-9+_-]+)','', x)"
   ]
  },
  {
   "cell_type": "code",
   "execution_count": 57,
   "metadata": {},
   "outputs": [],
   "source": [
    "df.twitts=df.twitts.apply(lambda x: re.sub(r'([a-z0-9+._-]+@[a-z0-9+._-]+\\.[a-z0-9+_-]+)','', x))"
   ]
  },
  {
   "cell_type": "code",
   "execution_count": 58,
   "metadata": {},
   "outputs": [
    {
     "data": {
      "text/html": [
       "<div>\n",
       "<style scoped>\n",
       "    .dataframe tbody tr th:only-of-type {\n",
       "        vertical-align: middle;\n",
       "    }\n",
       "\n",
       "    .dataframe tbody tr th {\n",
       "        vertical-align: top;\n",
       "    }\n",
       "\n",
       "    .dataframe thead th {\n",
       "        text-align: right;\n",
       "    }\n",
       "</style>\n",
       "<table border=\"1\" class=\"dataframe\">\n",
       "  <thead>\n",
       "    <tr style=\"text-align: right;\">\n",
       "      <th></th>\n",
       "      <th>twitts</th>\n",
       "      <th>sentiment</th>\n",
       "      <th>word_counts</th>\n",
       "      <th>char_counts</th>\n",
       "      <th>Avg_word_length</th>\n",
       "      <th>stop_words_len</th>\n",
       "      <th>hashtags_count</th>\n",
       "      <th>mentions_counts</th>\n",
       "      <th>numeric_digits_count</th>\n",
       "      <th>upper_counts</th>\n",
       "      <th>emails</th>\n",
       "      <th>emails_count</th>\n",
       "    </tr>\n",
       "  </thead>\n",
       "  <tbody>\n",
       "    <tr>\n",
       "      <th>3713</th>\n",
       "      <td>@securerecs arghh me please</td>\n",
       "      <td>1</td>\n",
       "      <td>5</td>\n",
       "      <td>51</td>\n",
       "      <td>10.2</td>\n",
       "      <td>0</td>\n",
       "      <td>0</td>\n",
       "      <td>1</td>\n",
       "      <td>0</td>\n",
       "      <td>0</td>\n",
       "      <td>[markbradbury_16@hotmail.com]</td>\n",
       "      <td>1</td>\n",
       "    </tr>\n",
       "  </tbody>\n",
       "</table>\n",
       "</div>"
      ],
      "text/plain": [
       "                             twitts  sentiment  word_counts  char_counts  \\\n",
       "3713  @securerecs arghh me please            1            5           51   \n",
       "\n",
       "      Avg_word_length  stop_words_len  hashtags_count  mentions_counts  \\\n",
       "3713             10.2               0               0                1   \n",
       "\n",
       "      numeric_digits_count  upper_counts                         emails  \\\n",
       "3713                     0             0  [markbradbury_16@hotmail.com]   \n",
       "\n",
       "      emails_count  \n",
       "3713             1  "
      ]
     },
     "execution_count": 58,
     "metadata": {},
     "output_type": "execute_result"
    }
   ],
   "source": [
    "df[df.emails_count>0]"
   ]
  },
  {
   "cell_type": "code",
   "execution_count": 59,
   "metadata": {},
   "outputs": [],
   "source": [
    "x = 'hi, thanks to watching it. for more visit https://youtube.com/kgptalkie'"
   ]
  },
  {
   "cell_type": "code",
   "execution_count": 60,
   "metadata": {},
   "outputs": [
    {
     "data": {
      "text/plain": [
       "[('https', 'youtube.com', '/kgptalkie')]"
      ]
     },
     "execution_count": 60,
     "metadata": {},
     "output_type": "execute_result"
    }
   ],
   "source": [
    "re.findall(r'(http|https|ftp|ssh)://([\\w_-]+(?:(?:\\.[\\w_-]+)+))([\\w.,@?^=%&:/~+#-]*[\\w@?^=%&/~+#-])?', x)"
   ]
  },
  {
   "cell_type": "code",
   "execution_count": 61,
   "metadata": {},
   "outputs": [],
   "source": [
    "df['url_flags'] = df['twitts'].apply(lambda x: len(re.findall(r'(http|https|ftp|ssh)://([\\w_-]+(?:(?:\\.[\\w_-]+)+))([\\w.,@?^=%&:/~+#-]*[\\w@?^=%&/~+#-])?', x)))"
   ]
  },
  {
   "cell_type": "code",
   "execution_count": 62,
   "metadata": {},
   "outputs": [
    {
     "data": {
      "text/html": [
       "<div>\n",
       "<style scoped>\n",
       "    .dataframe tbody tr th:only-of-type {\n",
       "        vertical-align: middle;\n",
       "    }\n",
       "\n",
       "    .dataframe tbody tr th {\n",
       "        vertical-align: top;\n",
       "    }\n",
       "\n",
       "    .dataframe thead th {\n",
       "        text-align: right;\n",
       "    }\n",
       "</style>\n",
       "<table border=\"1\" class=\"dataframe\">\n",
       "  <thead>\n",
       "    <tr style=\"text-align: right;\">\n",
       "      <th></th>\n",
       "      <th>twitts</th>\n",
       "      <th>sentiment</th>\n",
       "      <th>word_counts</th>\n",
       "      <th>char_counts</th>\n",
       "      <th>Avg_word_length</th>\n",
       "      <th>stop_words_len</th>\n",
       "      <th>hashtags_count</th>\n",
       "      <th>mentions_counts</th>\n",
       "      <th>numeric_digits_count</th>\n",
       "      <th>upper_counts</th>\n",
       "      <th>emails</th>\n",
       "      <th>emails_count</th>\n",
       "      <th>url_flags</th>\n",
       "    </tr>\n",
       "  </thead>\n",
       "  <tbody>\n",
       "    <tr>\n",
       "      <th>1970</th>\n",
       "      <td>another loser: just lost the game  http://tiny...</td>\n",
       "      <td>0</td>\n",
       "      <td>7</td>\n",
       "      <td>53</td>\n",
       "      <td>7.571429</td>\n",
       "      <td>2</td>\n",
       "      <td>0</td>\n",
       "      <td>0</td>\n",
       "      <td>0</td>\n",
       "      <td>0</td>\n",
       "      <td>[]</td>\n",
       "      <td>0</td>\n",
       "      <td>1</td>\n",
       "    </tr>\n",
       "    <tr>\n",
       "      <th>3089</th>\n",
       "      <td>@puggylicious http://twitpic.com/6dklt - wow l...</td>\n",
       "      <td>1</td>\n",
       "      <td>16</td>\n",
       "      <td>95</td>\n",
       "      <td>5.937500</td>\n",
       "      <td>4</td>\n",
       "      <td>0</td>\n",
       "      <td>1</td>\n",
       "      <td>0</td>\n",
       "      <td>0</td>\n",
       "      <td>[]</td>\n",
       "      <td>0</td>\n",
       "      <td>1</td>\n",
       "    </tr>\n",
       "    <tr>\n",
       "      <th>3408</th>\n",
       "      <td>speed of sound - coldplay. good morning  ã¢ââ...</td>\n",
       "      <td>1</td>\n",
       "      <td>9</td>\n",
       "      <td>60</td>\n",
       "      <td>6.666667</td>\n",
       "      <td>0</td>\n",
       "      <td>0</td>\n",
       "      <td>0</td>\n",
       "      <td>0</td>\n",
       "      <td>1</td>\n",
       "      <td>[]</td>\n",
       "      <td>0</td>\n",
       "      <td>1</td>\n",
       "    </tr>\n",
       "    <tr>\n",
       "      <th>3788</th>\n",
       "      <td>@lux_bird http://twitpic.com/6g3a4 - oh, yummi...</td>\n",
       "      <td>1</td>\n",
       "      <td>7</td>\n",
       "      <td>72</td>\n",
       "      <td>10.285714</td>\n",
       "      <td>0</td>\n",
       "      <td>0</td>\n",
       "      <td>1</td>\n",
       "      <td>0</td>\n",
       "      <td>0</td>\n",
       "      <td>[]</td>\n",
       "      <td>0</td>\n",
       "      <td>1</td>\n",
       "    </tr>\n",
       "    <tr>\n",
       "      <th>2543</th>\n",
       "      <td>&amp;quot;everybody's free (to feel good)&amp;quot; - ...</td>\n",
       "      <td>1</td>\n",
       "      <td>9</td>\n",
       "      <td>69</td>\n",
       "      <td>7.666667</td>\n",
       "      <td>0</td>\n",
       "      <td>0</td>\n",
       "      <td>0</td>\n",
       "      <td>0</td>\n",
       "      <td>0</td>\n",
       "      <td>[]</td>\n",
       "      <td>0</td>\n",
       "      <td>1</td>\n",
       "    </tr>\n",
       "  </tbody>\n",
       "</table>\n",
       "</div>"
      ],
      "text/plain": [
       "                                                 twitts  sentiment  \\\n",
       "1970  another loser: just lost the game  http://tiny...          0   \n",
       "3089  @puggylicious http://twitpic.com/6dklt - wow l...          1   \n",
       "3408  speed of sound - coldplay. good morning  ã¢ââ...          1   \n",
       "3788  @lux_bird http://twitpic.com/6g3a4 - oh, yummi...          1   \n",
       "2543  &quot;everybody's free (to feel good)&quot; - ...          1   \n",
       "\n",
       "      word_counts  char_counts  Avg_word_length  stop_words_len  \\\n",
       "1970            7           53         7.571429               2   \n",
       "3089           16           95         5.937500               4   \n",
       "3408            9           60         6.666667               0   \n",
       "3788            7           72        10.285714               0   \n",
       "2543            9           69         7.666667               0   \n",
       "\n",
       "      hashtags_count  mentions_counts  numeric_digits_count  upper_counts  \\\n",
       "1970               0                0                     0             0   \n",
       "3089               0                1                     0             0   \n",
       "3408               0                0                     0             1   \n",
       "3788               0                1                     0             0   \n",
       "2543               0                0                     0             0   \n",
       "\n",
       "     emails  emails_count  url_flags  \n",
       "1970     []             0          1  \n",
       "3089     []             0          1  \n",
       "3408     []             0          1  \n",
       "3788     []             0          1  \n",
       "2543     []             0          1  "
      ]
     },
     "execution_count": 62,
     "metadata": {},
     "output_type": "execute_result"
    }
   ],
   "source": [
    "df[df['url_flags']>0].sample(5)"
   ]
  },
  {
   "cell_type": "code",
   "execution_count": 63,
   "metadata": {},
   "outputs": [],
   "source": [
    "df['twitts'] = df['twitts'].apply(lambda x: re.sub(r'(http|https|ftp|ssh)://([\\w_-]+(?:(?:\\.[\\w_-]+)+))([\\w.,@?^=%&:/~+#-]*[\\w@?^=%&/~+#-])?', '' , x))"
   ]
  },
  {
   "cell_type": "code",
   "execution_count": 64,
   "metadata": {},
   "outputs": [
    {
     "data": {
      "text/html": [
       "<div>\n",
       "<style scoped>\n",
       "    .dataframe tbody tr th:only-of-type {\n",
       "        vertical-align: middle;\n",
       "    }\n",
       "\n",
       "    .dataframe tbody tr th {\n",
       "        vertical-align: top;\n",
       "    }\n",
       "\n",
       "    .dataframe thead th {\n",
       "        text-align: right;\n",
       "    }\n",
       "</style>\n",
       "<table border=\"1\" class=\"dataframe\">\n",
       "  <thead>\n",
       "    <tr style=\"text-align: right;\">\n",
       "      <th></th>\n",
       "      <th>twitts</th>\n",
       "      <th>sentiment</th>\n",
       "      <th>word_counts</th>\n",
       "      <th>char_counts</th>\n",
       "      <th>Avg_word_length</th>\n",
       "      <th>stop_words_len</th>\n",
       "      <th>hashtags_count</th>\n",
       "      <th>mentions_counts</th>\n",
       "      <th>numeric_digits_count</th>\n",
       "      <th>upper_counts</th>\n",
       "      <th>emails</th>\n",
       "      <th>emails_count</th>\n",
       "      <th>url_flags</th>\n",
       "    </tr>\n",
       "  </thead>\n",
       "  <tbody>\n",
       "    <tr>\n",
       "      <th>4</th>\n",
       "      <td>@mandagoforth me bad! it is funny though. zach...</td>\n",
       "      <td>0</td>\n",
       "      <td>26</td>\n",
       "      <td>116</td>\n",
       "      <td>4.461538</td>\n",
       "      <td>13</td>\n",
       "      <td>0</td>\n",
       "      <td>2</td>\n",
       "      <td>0</td>\n",
       "      <td>0</td>\n",
       "      <td>[]</td>\n",
       "      <td>0</td>\n",
       "      <td>0</td>\n",
       "    </tr>\n",
       "    <tr>\n",
       "      <th>23</th>\n",
       "      <td>ut oh, i wonder if the ram on the desktop is s...</td>\n",
       "      <td>0</td>\n",
       "      <td>14</td>\n",
       "      <td>46</td>\n",
       "      <td>3.285714</td>\n",
       "      <td>7</td>\n",
       "      <td>0</td>\n",
       "      <td>0</td>\n",
       "      <td>0</td>\n",
       "      <td>2</td>\n",
       "      <td>[]</td>\n",
       "      <td>0</td>\n",
       "      <td>0</td>\n",
       "    </tr>\n",
       "    <tr>\n",
       "      <th>59</th>\n",
       "      <td>@paulmccourt dunno what sky you're looking at!...</td>\n",
       "      <td>0</td>\n",
       "      <td>15</td>\n",
       "      <td>80</td>\n",
       "      <td>5.333333</td>\n",
       "      <td>3</td>\n",
       "      <td>0</td>\n",
       "      <td>1</td>\n",
       "      <td>0</td>\n",
       "      <td>0</td>\n",
       "      <td>[]</td>\n",
       "      <td>0</td>\n",
       "      <td>0</td>\n",
       "    </tr>\n",
       "    <tr>\n",
       "      <th>75</th>\n",
       "      <td>im back home in belfast  im realli tired thoug...</td>\n",
       "      <td>0</td>\n",
       "      <td>22</td>\n",
       "      <td>84</td>\n",
       "      <td>3.818182</td>\n",
       "      <td>9</td>\n",
       "      <td>0</td>\n",
       "      <td>0</td>\n",
       "      <td>0</td>\n",
       "      <td>1</td>\n",
       "      <td>[]</td>\n",
       "      <td>0</td>\n",
       "      <td>0</td>\n",
       "    </tr>\n",
       "    <tr>\n",
       "      <th>81</th>\n",
       "      <td>@lilmonkee987 i know what you mean... i feel s...</td>\n",
       "      <td>0</td>\n",
       "      <td>11</td>\n",
       "      <td>48</td>\n",
       "      <td>4.363636</td>\n",
       "      <td>5</td>\n",
       "      <td>0</td>\n",
       "      <td>1</td>\n",
       "      <td>0</td>\n",
       "      <td>0</td>\n",
       "      <td>[]</td>\n",
       "      <td>0</td>\n",
       "      <td>0</td>\n",
       "    </tr>\n",
       "    <tr>\n",
       "      <th>...</th>\n",
       "      <td>...</td>\n",
       "      <td>...</td>\n",
       "      <td>...</td>\n",
       "      <td>...</td>\n",
       "      <td>...</td>\n",
       "      <td>...</td>\n",
       "      <td>...</td>\n",
       "      <td>...</td>\n",
       "      <td>...</td>\n",
       "      <td>...</td>\n",
       "      <td>...</td>\n",
       "      <td>...</td>\n",
       "      <td>...</td>\n",
       "    </tr>\n",
       "    <tr>\n",
       "      <th>3913</th>\n",
       "      <td>for the press so after she recovered she kille...</td>\n",
       "      <td>1</td>\n",
       "      <td>24</td>\n",
       "      <td>100</td>\n",
       "      <td>4.166667</td>\n",
       "      <td>1</td>\n",
       "      <td>0</td>\n",
       "      <td>0</td>\n",
       "      <td>0</td>\n",
       "      <td>0</td>\n",
       "      <td>[]</td>\n",
       "      <td>0</td>\n",
       "      <td>0</td>\n",
       "    </tr>\n",
       "    <tr>\n",
       "      <th>3919</th>\n",
       "      <td>earned her cpr &amp;amp; first aid certifications!</td>\n",
       "      <td>1</td>\n",
       "      <td>7</td>\n",
       "      <td>40</td>\n",
       "      <td>5.714286</td>\n",
       "      <td>1</td>\n",
       "      <td>0</td>\n",
       "      <td>0</td>\n",
       "      <td>0</td>\n",
       "      <td>1</td>\n",
       "      <td>[]</td>\n",
       "      <td>0</td>\n",
       "      <td>0</td>\n",
       "    </tr>\n",
       "    <tr>\n",
       "      <th>3945</th>\n",
       "      <td>@teciav &amp;quot;i look high, i look low, i look ...</td>\n",
       "      <td>1</td>\n",
       "      <td>23</td>\n",
       "      <td>106</td>\n",
       "      <td>4.608696</td>\n",
       "      <td>10</td>\n",
       "      <td>0</td>\n",
       "      <td>1</td>\n",
       "      <td>0</td>\n",
       "      <td>0</td>\n",
       "      <td>[]</td>\n",
       "      <td>0</td>\n",
       "      <td>0</td>\n",
       "    </tr>\n",
       "    <tr>\n",
       "      <th>3951</th>\n",
       "      <td>i am soo very parched. and hungry. oh and i am...</td>\n",
       "      <td>1</td>\n",
       "      <td>21</td>\n",
       "      <td>87</td>\n",
       "      <td>4.142857</td>\n",
       "      <td>7</td>\n",
       "      <td>0</td>\n",
       "      <td>0</td>\n",
       "      <td>2</td>\n",
       "      <td>1</td>\n",
       "      <td>[]</td>\n",
       "      <td>0</td>\n",
       "      <td>0</td>\n",
       "    </tr>\n",
       "    <tr>\n",
       "      <th>3986</th>\n",
       "      <td>@countroshculla yeah..needed to get up early.....</td>\n",
       "      <td>1</td>\n",
       "      <td>10</td>\n",
       "      <td>69</td>\n",
       "      <td>6.900000</td>\n",
       "      <td>4</td>\n",
       "      <td>0</td>\n",
       "      <td>1</td>\n",
       "      <td>0</td>\n",
       "      <td>0</td>\n",
       "      <td>[]</td>\n",
       "      <td>0</td>\n",
       "      <td>0</td>\n",
       "    </tr>\n",
       "  </tbody>\n",
       "</table>\n",
       "<p>381 rows × 13 columns</p>\n",
       "</div>"
      ],
      "text/plain": [
       "                                                 twitts  sentiment  \\\n",
       "4     @mandagoforth me bad! it is funny though. zach...          0   \n",
       "23    ut oh, i wonder if the ram on the desktop is s...          0   \n",
       "59    @paulmccourt dunno what sky you're looking at!...          0   \n",
       "75    im back home in belfast  im realli tired thoug...          0   \n",
       "81    @lilmonkee987 i know what you mean... i feel s...          0   \n",
       "...                                                 ...        ...   \n",
       "3913  for the press so after she recovered she kille...          1   \n",
       "3919    earned her cpr &amp; first aid certifications!           1   \n",
       "3945  @teciav &quot;i look high, i look low, i look ...          1   \n",
       "3951  i am soo very parched. and hungry. oh and i am...          1   \n",
       "3986  @countroshculla yeah..needed to get up early.....          1   \n",
       "\n",
       "      word_counts  char_counts  Avg_word_length  stop_words_len  \\\n",
       "4              26          116         4.461538              13   \n",
       "23             14           46         3.285714               7   \n",
       "59             15           80         5.333333               3   \n",
       "75             22           84         3.818182               9   \n",
       "81             11           48         4.363636               5   \n",
       "...           ...          ...              ...             ...   \n",
       "3913           24          100         4.166667               1   \n",
       "3919            7           40         5.714286               1   \n",
       "3945           23          106         4.608696              10   \n",
       "3951           21           87         4.142857               7   \n",
       "3986           10           69         6.900000               4   \n",
       "\n",
       "      hashtags_count  mentions_counts  numeric_digits_count  upper_counts  \\\n",
       "4                  0                2                     0             0   \n",
       "23                 0                0                     0             2   \n",
       "59                 0                1                     0             0   \n",
       "75                 0                0                     0             1   \n",
       "81                 0                1                     0             0   \n",
       "...              ...              ...                   ...           ...   \n",
       "3913               0                0                     0             0   \n",
       "3919               0                0                     0             1   \n",
       "3945               0                1                     0             0   \n",
       "3951               0                0                     2             1   \n",
       "3986               0                1                     0             0   \n",
       "\n",
       "     emails  emails_count  url_flags  \n",
       "4        []             0          0  \n",
       "23       []             0          0  \n",
       "59       []             0          0  \n",
       "75       []             0          0  \n",
       "81       []             0          0  \n",
       "...     ...           ...        ...  \n",
       "3913     []             0          0  \n",
       "3919     []             0          0  \n",
       "3945     []             0          0  \n",
       "3951     []             0          0  \n",
       "3986     []             0          0  \n",
       "\n",
       "[381 rows x 13 columns]"
      ]
     },
     "execution_count": 64,
     "metadata": {},
     "output_type": "execute_result"
    }
   ],
   "source": [
    "df[df['twitts'].str.contains('rt')]"
   ]
  },
  {
   "cell_type": "code",
   "execution_count": 65,
   "metadata": {},
   "outputs": [],
   "source": [
    "x = 'rt @username: hello rthirt'"
   ]
  },
  {
   "cell_type": "code",
   "execution_count": 66,
   "metadata": {},
   "outputs": [
    {
     "data": {
      "text/plain": [
       "'@username: hello hi'"
      ]
     },
     "execution_count": 66,
     "metadata": {},
     "output_type": "execute_result"
    }
   ],
   "source": [
    "re.sub(r'rt', '', x).strip()"
   ]
  },
  {
   "cell_type": "code",
   "execution_count": 67,
   "metadata": {},
   "outputs": [],
   "source": [
    "df['twitts'] = df['twitts'].apply(lambda x: re.sub(r'\\brt\\b', '', x).strip())"
   ]
  },
  {
   "cell_type": "code",
   "execution_count": 68,
   "metadata": {},
   "outputs": [],
   "source": [
    "x = '@duyku apparently i was not ready enough... i...'"
   ]
  },
  {
   "cell_type": "code",
   "execution_count": 69,
   "metadata": {},
   "outputs": [
    {
     "data": {
      "text/plain": [
       "'duyku apparently i was not ready enough i'"
      ]
     },
     "execution_count": 69,
     "metadata": {},
     "output_type": "execute_result"
    }
   ],
   "source": [
    "re.sub(r'[^\\w ]+', \"\", x)"
   ]
  },
  {
   "cell_type": "code",
   "execution_count": 70,
   "metadata": {},
   "outputs": [],
   "source": [
    "df.twitts=df.twitts.apply(lambda x: re.sub(r'[^\\w ]+', \"\", x))"
   ]
  },
  {
   "cell_type": "code",
   "execution_count": 71,
   "metadata": {},
   "outputs": [
    {
     "data": {
      "text/plain": [
       "'is bored and wants to watch a movie  any suggestions'"
      ]
     },
     "execution_count": 71,
     "metadata": {},
     "output_type": "execute_result"
    }
   ],
   "source": [
    "df['twitts'][0]"
   ]
  },
  {
   "cell_type": "code",
   "execution_count": 72,
   "metadata": {},
   "outputs": [],
   "source": [
    "x =  'hi    hello     how are you'"
   ]
  },
  {
   "cell_type": "code",
   "execution_count": 73,
   "metadata": {},
   "outputs": [
    {
     "data": {
      "text/plain": [
       "'hi hello how are you'"
      ]
     },
     "execution_count": 73,
     "metadata": {},
     "output_type": "execute_result"
    }
   ],
   "source": [
    "' '.join(x.split())"
   ]
  },
  {
   "cell_type": "code",
   "execution_count": 74,
   "metadata": {},
   "outputs": [
    {
     "name": "stderr",
     "output_type": "stream",
     "text": [
      "C:\\Users\\HP\\anaconda3\\envs\\tf-gpu\\lib\\site-packages\\ipykernel_launcher.py:1: UserWarning: Pandas doesn't allow columns to be created via a new attribute name - see https://pandas.pydata.org/pandas-docs/stable/indexing.html#attribute-access\n",
      "  \"\"\"Entry point for launching an IPython kernel.\n"
     ]
    }
   ],
   "source": [
    "df.twittstts=df.twitts.apply(lambda x:' '.join(x.split()) )"
   ]
  },
  {
   "cell_type": "code",
   "execution_count": 75,
   "metadata": {},
   "outputs": [
    {
     "data": {
      "text/plain": [
       "0       is bored and wants to watch a movie  any sugge...\n",
       "1                  back in miami  waiting to unboard ship\n",
       "2       misskpey awwww dnt this bring back memoriessss...\n",
       "3                       ughhh i am so tired  blahhhhhhhhh\n",
       "4       mandagoforth me bad it is funny though zachary...\n",
       "                              ...                        \n",
       "3995                                     i just graduated\n",
       "3996               templating works it all has to be done\n",
       "3997                      mommy just brought me starbucks\n",
       "3998       omarepps watching you on a house rerunlovin it\n",
       "3999    thanks for trying to make me smile i will make...\n",
       "Name: twitts, Length: 4000, dtype: object"
      ]
     },
     "execution_count": 75,
     "metadata": {},
     "output_type": "execute_result"
    }
   ],
   "source": [
    "df.twitts"
   ]
  },
  {
   "cell_type": "code",
   "execution_count": 76,
   "metadata": {},
   "outputs": [],
   "source": [
    "#!pip install beautifulsoup4"
   ]
  },
  {
   "cell_type": "code",
   "execution_count": 77,
   "metadata": {},
   "outputs": [],
   "source": [
    "from bs4 import BeautifulSoup"
   ]
  },
  {
   "cell_type": "code",
   "execution_count": 78,
   "metadata": {},
   "outputs": [],
   "source": [
    "x = '<html><h1> thanks for watching it </h1></html>'"
   ]
  },
  {
   "cell_type": "code",
   "execution_count": 81,
   "metadata": {},
   "outputs": [
    {
     "data": {
      "text/plain": [
       "'thanks for watching it'"
      ]
     },
     "execution_count": 81,
     "metadata": {},
     "output_type": "execute_result"
    }
   ],
   "source": [
    "BeautifulSoup(x,'lxml').get_text().strip()"
   ]
  },
  {
   "cell_type": "code",
   "execution_count": 80,
   "metadata": {},
   "outputs": [
    {
     "name": "stdout",
     "output_type": "stream",
     "text": [
      "Requirement already satisfied: lxml in c:\\users\\hp\\anaconda3\\envs\\tf-gpu\\lib\\site-packages (4.6.1)Note: you may need to restart the kernel to use updated packages.\n",
      "\n"
     ]
    }
   ],
   "source": [
    "#pip install lxml"
   ]
  },
  {
   "cell_type": "code",
   "execution_count": 82,
   "metadata": {},
   "outputs": [
    {
     "name": "stdout",
     "output_type": "stream",
     "text": [
      "Wall time: 656 ms\n"
     ]
    }
   ],
   "source": [
    "%%time\n",
    "df.twitts=df.twitts.apply(lambda x:BeautifulSoup(x,'lxml').get_text().strip())"
   ]
  },
  {
   "cell_type": "code",
   "execution_count": 83,
   "metadata": {},
   "outputs": [],
   "source": [
    "x = 'Áccěntěd těxt'"
   ]
  },
  {
   "cell_type": "code",
   "execution_count": 85,
   "metadata": {},
   "outputs": [],
   "source": [
    "import unicodedata"
   ]
  },
  {
   "cell_type": "code",
   "execution_count": 86,
   "metadata": {},
   "outputs": [],
   "source": [
    "def remove_accented_chars(x):\n",
    "    x = unicodedata.normalize('NFKD', x).encode('ascii', 'ignore').decode('utf-8', 'ignore')\n",
    "    return x"
   ]
  },
  {
   "cell_type": "code",
   "execution_count": 87,
   "metadata": {},
   "outputs": [
    {
     "data": {
      "text/plain": [
       "'Accented text'"
      ]
     },
     "execution_count": 87,
     "metadata": {},
     "output_type": "execute_result"
    }
   ],
   "source": [
    "remove_accented_chars(x)"
   ]
  },
  {
   "cell_type": "code",
   "execution_count": 88,
   "metadata": {},
   "outputs": [],
   "source": [
    "df['twitts'] = df['twitts'].apply(lambda x: remove_accented_chars(x))"
   ]
  },
  {
   "cell_type": "code",
   "execution_count": 89,
   "metadata": {},
   "outputs": [],
   "source": [
    "x='this is a stop words'"
   ]
  },
  {
   "cell_type": "code",
   "execution_count": 91,
   "metadata": {},
   "outputs": [
    {
     "data": {
      "text/plain": [
       "'stop words'"
      ]
     },
     "execution_count": 91,
     "metadata": {},
     "output_type": "execute_result"
    }
   ],
   "source": [
    "' '.join([t for t in x.split() if t not in stopwords])"
   ]
  },
  {
   "cell_type": "code",
   "execution_count": null,
   "metadata": {},
   "outputs": [],
   "source": []
  }
 ],
 "metadata": {
  "kernelspec": {
   "display_name": "tf-gpu",
   "language": "python",
   "name": "tf-gpu"
  },
  "language_info": {
   "codemirror_mode": {
    "name": "ipython",
    "version": 3
   },
   "file_extension": ".py",
   "mimetype": "text/x-python",
   "name": "python",
   "nbconvert_exporter": "python",
   "pygments_lexer": "ipython3",
   "version": "3.7.7"
  }
 },
 "nbformat": 4,
 "nbformat_minor": 4
}
