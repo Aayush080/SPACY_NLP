{
 "cells": [
  {
   "cell_type": "code",
   "execution_count": 7,
   "metadata": {},
   "outputs": [],
   "source": [
    "name='KGP talkie is my you tube channel'\n",
    "follower='30k'"
   ]
  },
  {
   "cell_type": "code",
   "execution_count": 8,
   "metadata": {},
   "outputs": [
    {
     "name": "stdout",
     "output_type": "stream",
     "text": [
      "name follower\n",
      "KGP talkie is my you tube channel 30k\n"
     ]
    }
   ],
   "source": [
    "print('name','follower')\n",
    "print(name,follower)"
   ]
  },
  {
   "cell_type": "code",
   "execution_count": 9,
   "metadata": {},
   "outputs": [],
   "source": [
    "ds=[('python',50),('tensorflow',100),('nlp',200)]"
   ]
  },
  {
   "cell_type": "code",
   "execution_count": 10,
   "metadata": {},
   "outputs": [
    {
     "name": "stdout",
     "output_type": "stream",
     "text": [
      "[('python', 50), ('tensorflow', 100), ('nlp', 200)]\n"
     ]
    }
   ],
   "source": [
    "print(ds)"
   ]
  },
  {
   "cell_type": "code",
   "execution_count": 11,
   "metadata": {},
   "outputs": [
    {
     "name": "stdout",
     "output_type": "stream",
     "text": [
      "python 50\n",
      "tensorflow 100\n",
      "nlp 200\n"
     ]
    }
   ],
   "source": [
    "for info in ds:\n",
    "    print(info[0], info[1])"
   ]
  },
  {
   "cell_type": "code",
   "execution_count": 16,
   "metadata": {},
   "outputs": [
    {
     "name": "stdout",
     "output_type": "stream",
     "text": [
      "python               50\n",
      "tensorflow           100\n",
      "nlp                  200\n"
     ]
    }
   ],
   "source": [
    "for info in ds:\n",
    "    print(f'{info[0]:{20}} {info[1]}')"
   ]
  },
  {
   "cell_type": "code",
   "execution_count": 17,
   "metadata": {},
   "outputs": [
    {
     "name": "stdout",
     "output_type": "stream",
     "text": [
      "python               50\n",
      "tensorflow           100\n",
      "nlp                  200\n"
     ]
    }
   ],
   "source": [
    "for info in ds:\n",
    "    print(f'{info[0]:{20}} {info[1]}')"
   ]
  },
  {
   "cell_type": "code",
   "execution_count": 18,
   "metadata": {},
   "outputs": [
    {
     "name": "stdout",
     "output_type": "stream",
     "text": [
      "python               ...50\n",
      "tensorflow           ..100\n",
      "nlp                  ..200\n"
     ]
    }
   ],
   "source": [
    "#>, <, ^\n",
    "for info in ds:\n",
    "    print(f'{info[0]:{20}} {info[1]:.>{5}}')"
   ]
  },
  {
   "cell_type": "code",
   "execution_count": 31,
   "metadata": {},
   "outputs": [],
   "source": [
    "file=open('data1/data.txt','w')\n",
    "data='this is sentence 4'\n",
    "file.write(data)\n",
    "file.close()"
   ]
  },
  {
   "cell_type": "code",
   "execution_count": 28,
   "metadata": {},
   "outputs": [
    {
     "data": {
      "text/plain": [
       "18"
      ]
     },
     "execution_count": 28,
     "metadata": {},
     "output_type": "execute_result"
    }
   ],
   "source": [
    "len(data)"
   ]
  },
  {
   "cell_type": "code",
   "execution_count": 33,
   "metadata": {},
   "outputs": [],
   "source": [
    "file=open('data1/data.txt','a')\n",
    "data='\\nthis is sentence 4'\n",
    "file.write(data)\n",
    "file.close()"
   ]
  },
  {
   "cell_type": "code",
   "execution_count": 34,
   "metadata": {},
   "outputs": [],
   "source": [
    "file=open('data1/data.txt','a')\n",
    "data='\\tthis is sentence 6'\n",
    "file.write(data)\n",
    "file.close()"
   ]
  },
  {
   "cell_type": "code",
   "execution_count": 35,
   "metadata": {},
   "outputs": [],
   "source": [
    "file=open('data1/data2.txt','a')\n",
    "data=1\n",
    "file.write(str(data))\n",
    "file.close()"
   ]
  },
  {
   "cell_type": "code",
   "execution_count": 38,
   "metadata": {},
   "outputs": [],
   "source": [
    "file=open('data1/data2.txt','a')\n",
    "data=[1,'one','this is two',2.3]\n",
    "file.write('\\n')\n",
    "for d in data:\n",
    "    \n",
    "    file.write(str(d))\n",
    "    file.write('\\n')\n",
    "file.close()"
   ]
  },
  {
   "cell_type": "code",
   "execution_count": 40,
   "metadata": {},
   "outputs": [],
   "source": [
    "with open('data1/data3.txt','w') as file:\n",
    "    data=[1,'one','this is two',2.3]\n",
    "    for d in data:\n",
    "    \n",
    "       file.write(str(d))\n",
    "       file.write('\\n')\n",
    "    file.close()"
   ]
  },
  {
   "cell_type": "code",
   "execution_count": 62,
   "metadata": {},
   "outputs": [],
   "source": [
    "file=open('data1/data3.txt','r')"
   ]
  },
  {
   "cell_type": "code",
   "execution_count": 52,
   "metadata": {},
   "outputs": [
    {
     "data": {
      "text/plain": [
       "['1', 'one', 'this is two', '2.3']"
      ]
     },
     "execution_count": 52,
     "metadata": {},
     "output_type": "execute_result"
    }
   ],
   "source": [
    "file.seek(0)\n",
    "file.read().splitlines()"
   ]
  },
  {
   "cell_type": "code",
   "execution_count": 65,
   "metadata": {},
   "outputs": [
    {
     "data": {
      "text/plain": [
       "['1\\n', 'one\\n', 'this is two\\n', '2.3\\n']"
      ]
     },
     "execution_count": 65,
     "metadata": {},
     "output_type": "execute_result"
    }
   ],
   "source": [
    "file.seek(0)\n",
    "file.readlines()\n"
   ]
  },
  {
   "cell_type": "code",
   "execution_count": 4,
   "metadata": {},
   "outputs": [],
   "source": [
    "import pandas as pd"
   ]
  },
  {
   "cell_type": "code",
   "execution_count": 3,
   "metadata": {},
   "outputs": [
    {
     "ename": "NameError",
     "evalue": "name 'pd' is not defined",
     "output_type": "error",
     "traceback": [
      "\u001b[1;31m---------------------------------------------------------------------------\u001b[0m",
      "\u001b[1;31mNameError\u001b[0m                                 Traceback (most recent call last)",
      "\u001b[1;32m<ipython-input-3-5a07d1fb7d31>\u001b[0m in \u001b[0;36m<module>\u001b[1;34m\u001b[0m\n\u001b[0;32m      1\u001b[0m \u001b[0ml\u001b[0m\u001b[1;33m=\u001b[0m\u001b[1;33m[\u001b[0m\u001b[1;33m(\u001b[0m\u001b[1;36m1\u001b[0m\u001b[1;33m,\u001b[0m\u001b[1;34m'one'\u001b[0m\u001b[1;33m)\u001b[0m\u001b[1;33m,\u001b[0m\u001b[1;33m(\u001b[0m\u001b[1;36m2\u001b[0m\u001b[1;33m,\u001b[0m\u001b[1;34m'two'\u001b[0m\u001b[1;33m)\u001b[0m\u001b[1;33m,\u001b[0m\u001b[1;33m(\u001b[0m\u001b[1;36m3\u001b[0m\u001b[1;33m,\u001b[0m\u001b[1;34m'three'\u001b[0m\u001b[1;33m)\u001b[0m\u001b[1;33m]\u001b[0m\u001b[1;33m\u001b[0m\u001b[1;33m\u001b[0m\u001b[0m\n\u001b[1;32m----> 2\u001b[1;33m \u001b[0mdf\u001b[0m\u001b[1;33m=\u001b[0m\u001b[0mpd\u001b[0m\u001b[1;33m.\u001b[0m\u001b[0mDataFrame\u001b[0m\u001b[1;33m(\u001b[0m\u001b[0ml\u001b[0m\u001b[1;33m,\u001b[0m\u001b[0mcolumns\u001b[0m\u001b[1;33m=\u001b[0m\u001b[1;33m[\u001b[0m\u001b[1;34m'digit'\u001b[0m\u001b[1;33m,\u001b[0m\u001b[1;34m'figure'\u001b[0m\u001b[1;33m]\u001b[0m\u001b[1;33m)\u001b[0m\u001b[1;33m\u001b[0m\u001b[1;33m\u001b[0m\u001b[0m\n\u001b[0m\u001b[0;32m      3\u001b[0m \u001b[0mdf\u001b[0m\u001b[1;33m.\u001b[0m\u001b[0mto_csv\u001b[0m\u001b[1;33m(\u001b[0m\u001b[1;34m'digit.csv'\u001b[0m\u001b[1;33m,\u001b[0m\u001b[0msep\u001b[0m\u001b[1;33m=\u001b[0m\u001b[1;34m','\u001b[0m\u001b[1;33m)\u001b[0m\u001b[1;33m\u001b[0m\u001b[1;33m\u001b[0m\u001b[0m\n",
      "\u001b[1;31mNameError\u001b[0m: name 'pd' is not defined"
     ]
    }
   ],
   "source": [
    "l=[(1,'one'),(2,'two'),(3,'three')]\n",
    "df=pd.DataFrame(l,columns=['digit','figure'])\n",
    "df.to_csv('digit.csv',sep=',')"
   ]
  },
  {
   "cell_type": "code",
   "execution_count": 7,
   "metadata": {},
   "outputs": [
    {
     "data": {
      "text/html": [
       "<div>\n",
       "<style scoped>\n",
       "    .dataframe tbody tr th:only-of-type {\n",
       "        vertical-align: middle;\n",
       "    }\n",
       "\n",
       "    .dataframe tbody tr th {\n",
       "        vertical-align: top;\n",
       "    }\n",
       "\n",
       "    .dataframe thead th {\n",
       "        text-align: right;\n",
       "    }\n",
       "</style>\n",
       "<table border=\"1\" class=\"dataframe\">\n",
       "  <thead>\n",
       "    <tr style=\"text-align: right;\">\n",
       "      <th></th>\n",
       "      <th>digit</th>\n",
       "      <th>figure</th>\n",
       "    </tr>\n",
       "  </thead>\n",
       "  <tbody>\n",
       "    <tr>\n",
       "      <th>0</th>\n",
       "      <td>1</td>\n",
       "      <td>one</td>\n",
       "    </tr>\n",
       "    <tr>\n",
       "      <th>1</th>\n",
       "      <td>2</td>\n",
       "      <td>two</td>\n",
       "    </tr>\n",
       "    <tr>\n",
       "      <th>2</th>\n",
       "      <td>3</td>\n",
       "      <td>three</td>\n",
       "    </tr>\n",
       "  </tbody>\n",
       "</table>\n",
       "</div>"
      ],
      "text/plain": [
       "   digit figure\n",
       "0      1    one\n",
       "1      2    two\n",
       "2      3  three"
      ]
     },
     "execution_count": 7,
     "metadata": {},
     "output_type": "execute_result"
    }
   ],
   "source": [
    "pd.read_csv('digit.csv')"
   ]
  },
  {
   "cell_type": "code",
   "execution_count": 9,
   "metadata": {},
   "outputs": [
    {
     "data": {
      "text/html": [
       "<div>\n",
       "<style scoped>\n",
       "    .dataframe tbody tr th:only-of-type {\n",
       "        vertical-align: middle;\n",
       "    }\n",
       "\n",
       "    .dataframe tbody tr th {\n",
       "        vertical-align: top;\n",
       "    }\n",
       "\n",
       "    .dataframe thead th {\n",
       "        text-align: right;\n",
       "    }\n",
       "</style>\n",
       "<table border=\"1\" class=\"dataframe\">\n",
       "  <thead>\n",
       "    <tr style=\"text-align: right;\">\n",
       "      <th></th>\n",
       "      <th>label</th>\n",
       "      <th>review</th>\n",
       "    </tr>\n",
       "  </thead>\n",
       "  <tbody>\n",
       "    <tr>\n",
       "      <th>0</th>\n",
       "      <td>neg</td>\n",
       "      <td>how do films like mouse hunt get into theatres...</td>\n",
       "    </tr>\n",
       "    <tr>\n",
       "      <th>1</th>\n",
       "      <td>neg</td>\n",
       "      <td>some talented actresses are blessed with a dem...</td>\n",
       "    </tr>\n",
       "    <tr>\n",
       "      <th>2</th>\n",
       "      <td>pos</td>\n",
       "      <td>this has been an extraordinary year for austra...</td>\n",
       "    </tr>\n",
       "    <tr>\n",
       "      <th>3</th>\n",
       "      <td>pos</td>\n",
       "      <td>according to hollywood movies made in last few...</td>\n",
       "    </tr>\n",
       "    <tr>\n",
       "      <th>4</th>\n",
       "      <td>neg</td>\n",
       "      <td>my first press screening of 1998 and already i...</td>\n",
       "    </tr>\n",
       "    <tr>\n",
       "      <th>...</th>\n",
       "      <td>...</td>\n",
       "      <td>...</td>\n",
       "    </tr>\n",
       "    <tr>\n",
       "      <th>1995</th>\n",
       "      <td>pos</td>\n",
       "      <td>i like movies with albert brooks , and i reall...</td>\n",
       "    </tr>\n",
       "    <tr>\n",
       "      <th>1996</th>\n",
       "      <td>pos</td>\n",
       "      <td>it might surprise some to know that joel and e...</td>\n",
       "    </tr>\n",
       "    <tr>\n",
       "      <th>1997</th>\n",
       "      <td>pos</td>\n",
       "      <td>the verdict : spine-chilling drama from horror...</td>\n",
       "    </tr>\n",
       "    <tr>\n",
       "      <th>1998</th>\n",
       "      <td>pos</td>\n",
       "      <td>i want to correct what i wrote in a former ret...</td>\n",
       "    </tr>\n",
       "    <tr>\n",
       "      <th>1999</th>\n",
       "      <td>pos</td>\n",
       "      <td>a couple of months ago , when i first download...</td>\n",
       "    </tr>\n",
       "  </tbody>\n",
       "</table>\n",
       "<p>2000 rows × 2 columns</p>\n",
       "</div>"
      ],
      "text/plain": [
       "     label                                             review\n",
       "0      neg  how do films like mouse hunt get into theatres...\n",
       "1      neg  some talented actresses are blessed with a dem...\n",
       "2      pos  this has been an extraordinary year for austra...\n",
       "3      pos  according to hollywood movies made in last few...\n",
       "4      neg  my first press screening of 1998 and already i...\n",
       "...    ...                                                ...\n",
       "1995   pos  i like movies with albert brooks , and i reall...\n",
       "1996   pos  it might surprise some to know that joel and e...\n",
       "1997   pos  the verdict : spine-chilling drama from horror...\n",
       "1998   pos  i want to correct what i wrote in a former ret...\n",
       "1999   pos  a couple of months ago , when i first download...\n",
       "\n",
       "[2000 rows x 2 columns]"
      ]
     },
     "execution_count": 9,
     "metadata": {},
     "output_type": "execute_result"
    }
   ],
   "source": [
    "pd.read_csv('data/moviereviews.tsv',sep='\\t')"
   ]
  },
  {
   "cell_type": "code",
   "execution_count": 2,
   "metadata": {},
   "outputs": [
    {
     "ename": "NameError",
     "evalue": "name 'df' is not defined",
     "output_type": "error",
     "traceback": [
      "\u001b[1;31m---------------------------------------------------------------------------\u001b[0m",
      "\u001b[1;31mNameError\u001b[0m                                 Traceback (most recent call last)",
      "\u001b[1;32m<ipython-input-2-00cf07b74dcd>\u001b[0m in \u001b[0;36m<module>\u001b[1;34m\u001b[0m\n\u001b[1;32m----> 1\u001b[1;33m \u001b[0mdf\u001b[0m\u001b[1;33m\u001b[0m\u001b[1;33m\u001b[0m\u001b[0m\n\u001b[0m",
      "\u001b[1;31mNameError\u001b[0m: name 'df' is not defined"
     ]
    }
   ],
   "source": [
    "df"
   ]
  },
  {
   "cell_type": "code",
   "execution_count": 11,
   "metadata": {},
   "outputs": [],
   "source": [
    "df.to_csv('digits.tsv',sep='\\t',index=False)"
   ]
  },
  {
   "cell_type": "code",
   "execution_count": 1,
   "metadata": {},
   "outputs": [
    {
     "ename": "NameError",
     "evalue": "name 'df' is not defined",
     "output_type": "error",
     "traceback": [
      "\u001b[1;31m---------------------------------------------------------------------------\u001b[0m",
      "\u001b[1;31mNameError\u001b[0m                                 Traceback (most recent call last)",
      "\u001b[1;32m<ipython-input-1-73021e5d3c3c>\u001b[0m in \u001b[0;36m<module>\u001b[1;34m\u001b[0m\n\u001b[1;32m----> 1\u001b[1;33m \u001b[0mdf\u001b[0m\u001b[1;33m.\u001b[0m\u001b[0mto_excel\u001b[0m\u001b[1;33m(\u001b[0m\u001b[1;34m'digit_sheet1.xlsx'\u001b[0m\u001b[1;33m)\u001b[0m\u001b[1;33m\u001b[0m\u001b[1;33m\u001b[0m\u001b[0m\n\u001b[0m",
      "\u001b[1;31mNameError\u001b[0m: name 'df' is not defined"
     ]
    }
   ],
   "source": [
    "df.to_excel('digit_sheet1.xlsx')"
   ]
  },
  {
   "cell_type": "code",
   "execution_count": 16,
   "metadata": {},
   "outputs": [
    {
     "name": "stdout",
     "output_type": "stream",
     "text": [
      "\n",
      "Note: you may need to restart the kernel to use updated packages.\n"
     ]
    },
    {
     "name": "stderr",
     "output_type": "stream",
     "text": [
      "usage: conda-script.py [-h] [-V] command ...\n",
      "conda-script.py: error: unrecognized arguments: openpyxl\n"
     ]
    }
   ],
   "source": [
    "conda install -c anaconda openpyxl"
   ]
  },
  {
   "cell_type": "code",
   "execution_count": null,
   "metadata": {},
   "outputs": [],
   "source": []
  },
  {
   "cell_type": "code",
   "execution_count": 5,
   "metadata": {},
   "outputs": [],
   "source": [
    "l=[(1,'one'),(2,'two'),(3,'three')]\n",
    "df=pd.DataFrame(l,columns=['digit','figure'])"
   ]
  },
  {
   "cell_type": "code",
   "execution_count": 6,
   "metadata": {},
   "outputs": [
    {
     "data": {
      "text/html": [
       "<div>\n",
       "<style scoped>\n",
       "    .dataframe tbody tr th:only-of-type {\n",
       "        vertical-align: middle;\n",
       "    }\n",
       "\n",
       "    .dataframe tbody tr th {\n",
       "        vertical-align: top;\n",
       "    }\n",
       "\n",
       "    .dataframe thead th {\n",
       "        text-align: right;\n",
       "    }\n",
       "</style>\n",
       "<table border=\"1\" class=\"dataframe\">\n",
       "  <thead>\n",
       "    <tr style=\"text-align: right;\">\n",
       "      <th></th>\n",
       "      <th>digit</th>\n",
       "      <th>figure</th>\n",
       "    </tr>\n",
       "  </thead>\n",
       "  <tbody>\n",
       "    <tr>\n",
       "      <th>0</th>\n",
       "      <td>1</td>\n",
       "      <td>one</td>\n",
       "    </tr>\n",
       "    <tr>\n",
       "      <th>1</th>\n",
       "      <td>2</td>\n",
       "      <td>two</td>\n",
       "    </tr>\n",
       "    <tr>\n",
       "      <th>2</th>\n",
       "      <td>3</td>\n",
       "      <td>three</td>\n",
       "    </tr>\n",
       "  </tbody>\n",
       "</table>\n",
       "</div>"
      ],
      "text/plain": [
       "   digit figure\n",
       "0      1    one\n",
       "1      2    two\n",
       "2      3  three"
      ]
     },
     "execution_count": 6,
     "metadata": {},
     "output_type": "execute_result"
    }
   ],
   "source": [
    "df"
   ]
  },
  {
   "cell_type": "code",
   "execution_count": 7,
   "metadata": {},
   "outputs": [],
   "source": [
    "df.to_excel('digit_sheet1.xlsx')"
   ]
  },
  {
   "cell_type": "code",
   "execution_count": 8,
   "metadata": {},
   "outputs": [
    {
     "name": "stdout",
     "output_type": "stream",
     "text": [
      "Collecting PyPDF2\n",
      "  Downloading PyPDF2-1.26.0.tar.gz (77 kB)\n",
      "Building wheels for collected packages: PyPDF2\n",
      "  Building wheel for PyPDF2 (setup.py): started\n",
      "  Building wheel for PyPDF2 (setup.py): finished with status 'done'\n",
      "  Created wheel for PyPDF2: filename=PyPDF2-1.26.0-py3-none-any.whl size=61087 sha256=05818710aa5d06436a1ec6fb581b3746c4a6273dbef93a6dc4f07dfc65a7407a\n",
      "  Stored in directory: c:\\users\\hp\\appdata\\local\\pip\\cache\\wheels\\80\\1a\\24\\648467ade3a77ed20f35cfd2badd32134e96dd25ca811e64b3\n",
      "Successfully built PyPDF2\n",
      "Installing collected packages: PyPDF2\n",
      "Successfully installed PyPDF2-1.26.0\n"
     ]
    }
   ],
   "source": [
    " #!pip install PyPDF2"
   ]
  },
  {
   "cell_type": "code",
   "execution_count": 9,
   "metadata": {},
   "outputs": [],
   "source": [
    "import PyPDF2 as pdf\n"
   ]
  },
  {
   "cell_type": "code",
   "execution_count": 10,
   "metadata": {},
   "outputs": [],
   "source": [
    "file=open('data/NLP.pdf','rb')"
   ]
  },
  {
   "cell_type": "code",
   "execution_count": 11,
   "metadata": {},
   "outputs": [
    {
     "name": "stderr",
     "output_type": "stream",
     "text": [
      "PdfReadWarning: Xref table not zero-indexed. ID numbers for objects will be corrected. [pdf.py:1736]\n"
     ]
    }
   ],
   "source": [
    "reader=pdf.PdfFileReader(file)"
   ]
  },
  {
   "cell_type": "code",
   "execution_count": 12,
   "metadata": {},
   "outputs": [
    {
     "data": {
      "text/plain": [
       "<PyPDF2.pdf.PdfFileReader at 0x1ebf86ca1c8>"
      ]
     },
     "execution_count": 12,
     "metadata": {},
     "output_type": "execute_result"
    }
   ],
   "source": [
    "reader"
   ]
  },
  {
   "cell_type": "code",
   "execution_count": 13,
   "metadata": {},
   "outputs": [
    {
     "name": "stdout",
     "output_type": "stream",
     "text": [
      "Help on PdfFileReader in module PyPDF2.pdf object:\n",
      "\n",
      "class PdfFileReader(builtins.object)\n",
      " |  PdfFileReader(stream, strict=True, warndest=None, overwriteWarnings=True)\n",
      " |  \n",
      " |  Initializes a PdfFileReader object.  This operation can take some time, as\n",
      " |  the PDF stream's cross-reference tables are read into memory.\n",
      " |  \n",
      " |  :param stream: A File object or an object that supports the standard read\n",
      " |      and seek methods similar to a File object. Could also be a\n",
      " |      string representing a path to a PDF file.\n",
      " |  :param bool strict: Determines whether user should be warned of all\n",
      " |      problems and also causes some correctable problems to be fatal.\n",
      " |      Defaults to ``True``.\n",
      " |  :param warndest: Destination for logging warnings (defaults to\n",
      " |      ``sys.stderr``).\n",
      " |  :param bool overwriteWarnings: Determines whether to override Python's\n",
      " |      ``warnings.py`` module with a custom implementation (defaults to\n",
      " |      ``True``).\n",
      " |  \n",
      " |  Methods defined here:\n",
      " |  \n",
      " |  __init__(self, stream, strict=True, warndest=None, overwriteWarnings=True)\n",
      " |      Initialize self.  See help(type(self)) for accurate signature.\n",
      " |  \n",
      " |  cacheGetIndirectObject(self, generation, idnum)\n",
      " |  \n",
      " |  cacheIndirectObject(self, generation, idnum, obj)\n",
      " |  \n",
      " |  decrypt(self, password)\n",
      " |      When using an encrypted / secured PDF file with the PDF Standard\n",
      " |      encryption handler, this function will allow the file to be decrypted.\n",
      " |      It checks the given password against the document's user password and\n",
      " |      owner password, and then stores the resulting decryption key if either\n",
      " |      password is correct.\n",
      " |      \n",
      " |      It does not matter which password was matched.  Both passwords provide\n",
      " |      the correct decryption key that will allow the document to be used with\n",
      " |      this library.\n",
      " |      \n",
      " |      :param str password: The password to match.\n",
      " |      :return: ``0`` if the password failed, ``1`` if the password matched the user\n",
      " |          password, and ``2`` if the password matched the owner password.\n",
      " |      :rtype: int\n",
      " |      :raises NotImplementedError: if document uses an unsupported encryption\n",
      " |          method.\n",
      " |  \n",
      " |  getDestinationPageNumber(self, destination)\n",
      " |      Retrieve page number of a given Destination object\n",
      " |      \n",
      " |      :param Destination destination: The destination to get page number.\n",
      " |           Should be an instance of\n",
      " |           :class:`Destination<PyPDF2.pdf.Destination>`\n",
      " |      :return: the page number or -1 if page not found\n",
      " |      :rtype: int\n",
      " |  \n",
      " |  getDocumentInfo(self)\n",
      " |      Retrieves the PDF file's document information dictionary, if it exists.\n",
      " |      Note that some PDF files use metadata streams instead of docinfo\n",
      " |      dictionaries, and these metadata streams will not be accessed by this\n",
      " |      function.\n",
      " |      \n",
      " |      :return: the document information of this PDF file\n",
      " |      :rtype: :class:`DocumentInformation<pdf.DocumentInformation>` or ``None`` if none exists.\n",
      " |  \n",
      " |  getFields(self, tree=None, retval=None, fileobj=None)\n",
      " |      Extracts field data if this PDF contains interactive form fields.\n",
      " |      The *tree* and *retval* parameters are for recursive use.\n",
      " |      \n",
      " |      :param fileobj: A file object (usually a text file) to write\n",
      " |          a report to on all interactive form fields found.\n",
      " |      :return: A dictionary where each key is a field name, and each\n",
      " |          value is a :class:`Field<PyPDF2.generic.Field>` object. By\n",
      " |          default, the mapping name is used for keys.\n",
      " |      :rtype: dict, or ``None`` if form data could not be located.\n",
      " |  \n",
      " |  getFormTextFields(self)\n",
      " |      Retrieves form fields from the document with textual data (inputs, dropdowns)\n",
      " |  \n",
      " |  getIsEncrypted(self)\n",
      " |  \n",
      " |  getNamedDestinations(self, tree=None, retval=None)\n",
      " |      Retrieves the named destinations present in the document.\n",
      " |      \n",
      " |      :return: a dictionary which maps names to\n",
      " |          :class:`Destinations<PyPDF2.generic.Destination>`.\n",
      " |      :rtype: dict\n",
      " |  \n",
      " |  getNumPages(self)\n",
      " |      Calculates the number of pages in this PDF file.\n",
      " |      \n",
      " |      :return: number of pages\n",
      " |      :rtype: int\n",
      " |      :raises PdfReadError: if file is encrypted and restrictions prevent\n",
      " |          this action.\n",
      " |  \n",
      " |  getObject(self, indirectReference)\n",
      " |  \n",
      " |  getOutlines(self, node=None, outlines=None)\n",
      " |      Retrieves the document outline present in the document.\n",
      " |      \n",
      " |      :return: a nested list of :class:`Destinations<PyPDF2.generic.Destination>`.\n",
      " |  \n",
      " |  getPage(self, pageNumber)\n",
      " |      Retrieves a page by number from this PDF file.\n",
      " |      \n",
      " |      :param int pageNumber: The page number to retrieve\n",
      " |          (pages begin at zero)\n",
      " |      :return: a :class:`PageObject<pdf.PageObject>` instance.\n",
      " |      :rtype: :class:`PageObject<pdf.PageObject>`\n",
      " |  \n",
      " |  getPageLayout(self)\n",
      " |      Get the page layout.\n",
      " |      See :meth:`setPageLayout()<PdfFileWriter.setPageLayout>`\n",
      " |      for a description of valid layouts.\n",
      " |      \n",
      " |      :return: Page layout currently being used.\n",
      " |      :rtype: ``str``, ``None`` if not specified\n",
      " |  \n",
      " |  getPageMode(self)\n",
      " |      Get the page mode.\n",
      " |      See :meth:`setPageMode()<PdfFileWriter.setPageMode>`\n",
      " |      for a description of valid modes.\n",
      " |      \n",
      " |      :return: Page mode currently being used.\n",
      " |      :rtype: ``str``, ``None`` if not specified\n",
      " |  \n",
      " |  getPageNumber(self, page)\n",
      " |      Retrieve page number of a given PageObject\n",
      " |      \n",
      " |      :param PageObject page: The page to get page number. Should be\n",
      " |          an instance of :class:`PageObject<PyPDF2.pdf.PageObject>`\n",
      " |      :return: the page number or -1 if page not found\n",
      " |      :rtype: int\n",
      " |  \n",
      " |  getXmpMetadata(self)\n",
      " |      Retrieves XMP (Extensible Metadata Platform) data from the PDF document\n",
      " |      root.\n",
      " |      \n",
      " |      :return: a :class:`XmpInformation<xmp.XmpInformation>`\n",
      " |          instance that can be used to access XMP metadata from the document.\n",
      " |      :rtype: :class:`XmpInformation<xmp.XmpInformation>` or\n",
      " |          ``None`` if no metadata was found on the document root.\n",
      " |  \n",
      " |  read(self, stream)\n",
      " |  \n",
      " |  readNextEndLine(self, stream)\n",
      " |  \n",
      " |  readObjectHeader(self, stream)\n",
      " |  \n",
      " |  ----------------------------------------------------------------------\n",
      " |  Data descriptors defined here:\n",
      " |  \n",
      " |  __dict__\n",
      " |      dictionary for instance variables (if defined)\n",
      " |  \n",
      " |  __weakref__\n",
      " |      list of weak references to the object (if defined)\n",
      " |  \n",
      " |  documentInfo\n",
      " |  \n",
      " |  isEncrypted\n",
      " |  \n",
      " |  namedDestinations\n",
      " |  \n",
      " |  numPages\n",
      " |  \n",
      " |  outlines\n",
      " |  \n",
      " |  pageLayout\n",
      " |      Get the page layout.\n",
      " |      See :meth:`setPageLayout()<PdfFileWriter.setPageLayout>`\n",
      " |      for a description of valid layouts.\n",
      " |      \n",
      " |      :return: Page layout currently being used.\n",
      " |      :rtype: ``str``, ``None`` if not specified\n",
      " |  \n",
      " |  pageMode\n",
      " |      Get the page mode.\n",
      " |      See :meth:`setPageMode()<PdfFileWriter.setPageMode>`\n",
      " |      for a description of valid modes.\n",
      " |      \n",
      " |      :return: Page mode currently being used.\n",
      " |      :rtype: ``str``, ``None`` if not specified\n",
      " |  \n",
      " |  pages\n",
      " |  \n",
      " |  xmpMetadata\n",
      "\n"
     ]
    }
   ],
   "source": [
    "help(reader)"
   ]
  },
  {
   "cell_type": "code",
   "execution_count": 14,
   "metadata": {},
   "outputs": [
    {
     "data": {
      "text/plain": [
       "False"
      ]
     },
     "execution_count": 14,
     "metadata": {},
     "output_type": "execute_result"
    }
   ],
   "source": [
    "reader.getIsEncrypted()"
   ]
  },
  {
   "cell_type": "code",
   "execution_count": 15,
   "metadata": {},
   "outputs": [
    {
     "data": {
      "text/plain": [
       "19"
      ]
     },
     "execution_count": 15,
     "metadata": {},
     "output_type": "execute_result"
    }
   ],
   "source": [
    "reader.getNumPages()"
   ]
  },
  {
   "cell_type": "code",
   "execution_count": 16,
   "metadata": {},
   "outputs": [],
   "source": [
    "page1=reader.getPage(0).extractText()"
   ]
  },
  {
   "cell_type": "code",
   "execution_count": 17,
   "metadata": {},
   "outputs": [
    {
     "data": {
      "text/plain": [
       "'Lkit: A Toolkit for Natuaral Language Interface Construction 2. Natural Language Processing (NLP) This section provides a brief history of NLP, introduces some of the main problems involved in extracting meaning from human languages and examines the kind of activities performed by NLP systems.   2.1. Background Natural language processing systems take strings of words (sentences) as their input and produce structured representations capturing the meaning of those strings as their output. The nature of this output depends heavily on the task at hand. A natural language understanding system serving as an interface to a database might accept questions in English which relate to the kind of data held by the database. In this case the meaning of the input (the output of the system) might be expressed  in terms of structured SQL queries which can be directly submitted to the database.  The first use of computers to manipulate natural languages was in the 1950s with attempts to automate translation between Russian and English [Locke & Booth]. These systems were spectacularly unsuccessful requiring human Russian-English translators to pre-edit the Russian and post-edit the English. Based on World War II code breaking techniques, they took individual words in isolation and checked their definition in a dictionary. They were of little practical use. Popular tales about these systems cite many mis-translations including the phrase \"hydraulic ram\" translated as \"water goat\".  In the 1960s natural language processing systems started to examine sentence structure but often in an ad hoc manner. These systems were based on pattern matching and few derived representations of meaning. The most well known of these is Eliza [Weisenbaum] though this system was not the most impressive in terms of its ability to extract meaning from language.  Serious developments in natural language processing took place in the early & mid 1970s as systems started to use more general approaches and attempt to formally describe the rules of the language they worked with. LUNAR [Woods 1973] provided an English interface to a database holding details of moon rock samples. SHRDLU [Winograd] interfaced with a virtual robot in a world of blocks, accepting English commands to move the blocks around and answer questions about the state of the world. Since that time there has been parallel development of ideas and technologies that provide the basis for modern natural language processing systems. Research in computer linguistics has provided greater knowledge of grammar construction [Gazdar] and Artificial Intelligence researchers have produced more effective mechanisms for parsing natural languages and for representing meanings [Allen]. Natural language processing systems now build on a solid base of linguistic study and use highly developed semantic representations.  Recently (during the 1990s) natural language systems have either focused on specific, limited domains with some success or attempted to provide general purpose language understanding ability with less success. A major goal in contemporary language processing research is to produce systems which work with complete threads of discourse (with human like abilities) rather than only with isolated sentences [Russell & Norvig(a)]. Successes in this area are currently limited.     1 '"
      ]
     },
     "execution_count": 17,
     "metadata": {},
     "output_type": "execute_result"
    }
   ],
   "source": [
    "page1"
   ]
  },
  {
   "cell_type": "code",
   "execution_count": 19,
   "metadata": {},
   "outputs": [
    {
     "ename": "SyntaxError",
     "evalue": "invalid syntax (<ipython-input-19-d104e64f45e2>, line 1)",
     "output_type": "error",
     "traceback": [
      "\u001b[1;36m  File \u001b[1;32m\"<ipython-input-19-d104e64f45e2>\"\u001b[1;36m, line \u001b[1;32m1\u001b[0m\n\u001b[1;33m    pip install SpeechRecognition\u001b[0m\n\u001b[1;37m              ^\u001b[0m\n\u001b[1;31mSyntaxError\u001b[0m\u001b[1;31m:\u001b[0m invalid syntax\n"
     ]
    }
   ],
   "source": [
    "pip install SpeechRecognition\n",
    "#conda update --force conda\n",
    "#conda install pyaudio"
   ]
  },
  {
   "cell_type": "code",
   "execution_count": 21,
   "metadata": {},
   "outputs": [],
   "source": [
    "import speech_recognition as sr"
   ]
  },
  {
   "cell_type": "code",
   "execution_count": 22,
   "metadata": {},
   "outputs": [],
   "source": [
    "r=sr.Recognizer()"
   ]
  },
  {
   "cell_type": "code",
   "execution_count": 23,
   "metadata": {},
   "outputs": [
    {
     "ename": "AttributeError",
     "evalue": "__enter__",
     "output_type": "error",
     "traceback": [
      "\u001b[1;31m---------------------------------------------------------------------------\u001b[0m",
      "\u001b[1;31mAttributeError\u001b[0m                            Traceback (most recent call last)",
      "\u001b[1;32m<ipython-input-23-c8bd0672d8f5>\u001b[0m in \u001b[0;36m<module>\u001b[1;34m\u001b[0m\n\u001b[1;32m----> 1\u001b[1;33m \u001b[1;32mwith\u001b[0m \u001b[0msr\u001b[0m\u001b[1;33m.\u001b[0m\u001b[0mMicrophone\u001b[0m \u001b[1;32mas\u001b[0m \u001b[0msource\u001b[0m\u001b[1;33m:\u001b[0m\u001b[1;33m\u001b[0m\u001b[1;33m\u001b[0m\u001b[0m\n\u001b[0m\u001b[0;32m      2\u001b[0m     \u001b[0mprint\u001b[0m\u001b[1;33m(\u001b[0m\u001b[1;34m'Say Something...'\u001b[0m\u001b[1;33m)\u001b[0m\u001b[1;33m\u001b[0m\u001b[1;33m\u001b[0m\u001b[0m\n\u001b[0;32m      3\u001b[0m     \u001b[0maudio\u001b[0m\u001b[1;33m=\u001b[0m\u001b[0mr\u001b[0m\u001b[1;33m.\u001b[0m\u001b[0mlisten\u001b[0m\u001b[1;33m(\u001b[0m\u001b[0msource\u001b[0m\u001b[1;33m,\u001b[0m\u001b[0mtimeout\u001b[0m\u001b[1;33m=\u001b[0m\u001b[1;36m10\u001b[0m\u001b[1;33m)\u001b[0m\u001b[1;33m\u001b[0m\u001b[1;33m\u001b[0m\u001b[0m\n\u001b[0;32m      4\u001b[0m \u001b[1;33m\u001b[0m\u001b[0m\n\u001b[0;32m      5\u001b[0m     \u001b[1;32mtry\u001b[0m\u001b[1;33m:\u001b[0m\u001b[1;33m\u001b[0m\u001b[1;33m\u001b[0m\u001b[0m\n",
      "\u001b[1;31mAttributeError\u001b[0m: __enter__"
     ]
    }
   ],
   "source": [
    "with sr.Microphone as source:\n",
    "    print('Say Something...')\n",
    "    audio=r.listen(source,timeout=10)\n",
    "    \n",
    "    try:\n",
    "        text=r.recognize_google(audio)\n",
    "        print('You were saying:')\n",
    "        print(text)\n",
    "    except:\n",
    "        print('Sorry.Please try again.')"
   ]
  },
  {
   "cell_type": "code",
   "execution_count": 25,
   "metadata": {},
   "outputs": [
    {
     "name": "stdout",
     "output_type": "stream",
     "text": [
      "Say Something...\n",
      "You were saying:\n",
      "you are very good\n"
     ]
    }
   ],
   "source": [
    "with sr.Microphone() as source:\n",
    "    print('Say Something...')\n",
    "    audio = r.listen(source, timeout = 10)\n",
    "    \n",
    "    try:\n",
    "        text = r.recognize_google(audio)\n",
    "        print('You were saying:')\n",
    "        print(text)\n",
    "    except:\n",
    "        print('Sorry. Please try again.')"
   ]
  },
  {
   "cell_type": "code",
   "execution_count": 30,
   "metadata": {},
   "outputs": [],
   "source": [
    "from scipy.io import wavfile\n",
    "import numpy as np"
   ]
  },
  {
   "cell_type": "code",
   "execution_count": 27,
   "metadata": {},
   "outputs": [
    {
     "name": "stderr",
     "output_type": "stream",
     "text": [
      "WavFileWarning: Chunk (non-data) not understood, skipping it. [ipykernel_launcher.py:1]\n"
     ]
    }
   ],
   "source": [
    "fs,data=wavfile.read('data/laxmikant.wav')"
   ]
  },
  {
   "cell_type": "code",
   "execution_count": 28,
   "metadata": {},
   "outputs": [
    {
     "data": {
      "text/plain": [
       "44100"
      ]
     },
     "execution_count": 28,
     "metadata": {},
     "output_type": "execute_result"
    }
   ],
   "source": [
    "fs"
   ]
  },
  {
   "cell_type": "code",
   "execution_count": 29,
   "metadata": {},
   "outputs": [
    {
     "data": {
      "text/plain": [
       "array([[-9.1552734e-05, -9.1552734e-05],\n",
       "       [-6.1035156e-05, -6.1035156e-05],\n",
       "       [-6.1035156e-05, -9.1552734e-05],\n",
       "       ...,\n",
       "       [-1.2207031e-04, -1.8310547e-04],\n",
       "       [-1.2207031e-04, -9.1552734e-05],\n",
       "       [-6.1035156e-05, -9.1552734e-05]], dtype=float32)"
      ]
     },
     "execution_count": 29,
     "metadata": {},
     "output_type": "execute_result"
    }
   ],
   "source": [
    "data"
   ]
  },
  {
   "cell_type": "code",
   "execution_count": 40,
   "metadata": {},
   "outputs": [],
   "source": [
    "y=(np.iinfo(np.int32).max*(data/np.abs(data).max())).astype(np.int32)"
   ]
  },
  {
   "cell_type": "code",
   "execution_count": 41,
   "metadata": {},
   "outputs": [
    {
     "data": {
      "text/plain": [
       "array([[-398518, -398518],\n",
       "       [-265679, -265679],\n",
       "       [-265679, -398518],\n",
       "       ...,\n",
       "       [-531358, -797037],\n",
       "       [-531358, -398518],\n",
       "       [-265679, -398518]])"
      ]
     },
     "execution_count": 41,
     "metadata": {},
     "output_type": "execute_result"
    }
   ],
   "source": [
    "y"
   ]
  },
  {
   "cell_type": "code",
   "execution_count": 36,
   "metadata": {},
   "outputs": [
    {
     "data": {
      "text/plain": [
       "0.49334717"
      ]
     },
     "execution_count": 36,
     "metadata": {},
     "output_type": "execute_result"
    }
   ],
   "source": [
    "np.abs(data).max()"
   ]
  },
  {
   "cell_type": "code",
   "execution_count": 44,
   "metadata": {},
   "outputs": [],
   "source": [
    "wavfile.write('data1\\laxmikant_int.wav',fs,y)"
   ]
  },
  {
   "cell_type": "code",
   "execution_count": 45,
   "metadata": {},
   "outputs": [],
   "source": [
    "r=sr.Recognizer()"
   ]
  },
  {
   "cell_type": "code",
   "execution_count": 47,
   "metadata": {},
   "outputs": [
    {
     "name": "stdout",
     "output_type": "stream",
     "text": [
      "Working on\n",
      "hello everyone how are you I am sure all of you are enjoying this lesson and I would like to also request you to please leave your rating and if you have any doubts you can comment your questions in the question and answer section\n"
     ]
    }
   ],
   "source": [
    "with sr.AudioFile('data1\\laxmikant_int.wav') as source:\n",
    "    audio=r.listen(source)\n",
    "    \n",
    "    try:\n",
    "        text=r.recognize_google(audio)\n",
    "        print('Working on')\n",
    "        print(text)\n",
    "    except:\n",
    "        print('Sorry. Try again..')"
   ]
  },
  {
   "cell_type": "code",
   "execution_count": 48,
   "metadata": {},
   "outputs": [],
   "source": [
    "text='hello everyone how are you I am sure all of you are enjoying this lesson and I would like to also request you to please leave your rating and if you have any doubts you can comment your questions in the question and answer section.'"
   ]
  },
  {
   "cell_type": "code",
   "execution_count": 49,
   "metadata": {},
   "outputs": [
    {
     "name": "stdout",
     "output_type": "stream",
     "text": [
      "Collecting gTTS\n",
      "  Downloading gTTS-2.2.1-py3-none-any.whl (24 kB)\n",
      "Requirement already satisfied: click in c:\\users\\hp\\anaconda3\\envs\\tf-gpu\\lib\\site-packages (from gTTS) (7.1.2)\n",
      "Requirement already satisfied: six in c:\\users\\hp\\anaconda3\\envs\\tf-gpu\\lib\\site-packages (from gTTS) (1.15.0)\n",
      "Requirement already satisfied: requests in c:\\users\\hp\\anaconda3\\envs\\tf-gpu\\lib\\site-packages (from gTTS) (2.24.0)\n",
      "Requirement already satisfied: certifi>=2017.4.17 in c:\\users\\hp\\anaconda3\\envs\\tf-gpu\\lib\\site-packages (from requests->gTTS) (2020.6.20)\n",
      "Requirement already satisfied: chardet<4,>=3.0.2 in c:\\users\\hp\\anaconda3\\envs\\tf-gpu\\lib\\site-packages (from requests->gTTS) (3.0.4)\n",
      "Requirement already satisfied: urllib3!=1.25.0,!=1.25.1,<1.26,>=1.21.1 in c:\\users\\hp\\anaconda3\\envs\\tf-gpu\\lib\\site-packages (from requests->gTTS) (1.25.10)\n",
      "Requirement already satisfied: idna<3,>=2.5 in c:\\users\\hp\\anaconda3\\envs\\tf-gpu\\lib\\site-packages (from requests->gTTS) (2.10)\n",
      "Installing collected packages: gTTS\n",
      "Successfully installed gTTS-2.2.1\n"
     ]
    }
   ],
   "source": [
    "!pip install gTTS"
   ]
  },
  {
   "cell_type": "code",
   "execution_count": 51,
   "metadata": {},
   "outputs": [],
   "source": [
    "from gtts import gTTS as g"
   ]
  },
  {
   "cell_type": "code",
   "execution_count": 54,
   "metadata": {},
   "outputs": [],
   "source": [
    "obj=g(text)\n",
    "obj.save('data1/laxmi_gtts.mp3')"
   ]
  },
  {
   "cell_type": "code",
   "execution_count": null,
   "metadata": {},
   "outputs": [],
   "source": []
  }
 ],
 "metadata": {
  "kernelspec": {
   "display_name": "tf-gpu",
   "language": "python",
   "name": "tf-gpu"
  },
  "language_info": {
   "codemirror_mode": {
    "name": "ipython",
    "version": 3
   },
   "file_extension": ".py",
   "mimetype": "text/x-python",
   "name": "python",
   "nbconvert_exporter": "python",
   "pygments_lexer": "ipython3",
   "version": "3.7.7"
  }
 },
 "nbformat": 4,
 "nbformat_minor": 4
}
